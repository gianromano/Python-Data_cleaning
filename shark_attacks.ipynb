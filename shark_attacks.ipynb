{
 "cells": [
  {
   "cell_type": "markdown",
   "id": "f2ed333b-aa00-4eb1-8509-c5786c1f15df",
   "metadata": {},
   "source": [
    "### Importamos librerias"
   ]
  },
  {
   "cell_type": "code",
   "execution_count": 142,
   "id": "b895ca0e-daa5-47ec-9c81-c11ccb94023e",
   "metadata": {},
   "outputs": [],
   "source": [
    "import pandas as pd\n",
    "import xlrd\n",
    "import re"
   ]
  },
  {
   "cell_type": "markdown",
   "id": "d51fc500-db5d-4cfc-b24c-571cbc08b2d3",
   "metadata": {},
   "source": [
    "#### Importamos el excel"
   ]
  },
  {
   "cell_type": "code",
   "execution_count": 143,
   "id": "14999f33-d707-41cf-b146-32f880a2da9d",
   "metadata": {},
   "outputs": [],
   "source": [
    "tiburones_df= pd.read_excel(\"C:/Users/user/Jupyter/IronHack/Work - Python/Week2/Mini Project/GSAF5.xls\")"
   ]
  },
  {
   "cell_type": "markdown",
   "id": "e44b7e43-4d2d-4095-8686-57a465c977be",
   "metadata": {},
   "source": [
    "#### Ahora vamos a observar la forma que tiene nuestro DataSet"
   ]
  },
  {
   "cell_type": "code",
   "execution_count": 144,
   "id": "243257e7-8726-4e32-84d3-096f9292bbf1",
   "metadata": {},
   "outputs": [
    {
     "data": {
      "text/html": [
       "<div>\n",
       "<style scoped>\n",
       "    .dataframe tbody tr th:only-of-type {\n",
       "        vertical-align: middle;\n",
       "    }\n",
       "\n",
       "    .dataframe tbody tr th {\n",
       "        vertical-align: top;\n",
       "    }\n",
       "\n",
       "    .dataframe thead th {\n",
       "        text-align: right;\n",
       "    }\n",
       "</style>\n",
       "<table border=\"1\" class=\"dataframe\">\n",
       "  <thead>\n",
       "    <tr style=\"text-align: right;\">\n",
       "      <th></th>\n",
       "      <th>Date</th>\n",
       "      <th>Year</th>\n",
       "      <th>Type</th>\n",
       "      <th>Country</th>\n",
       "      <th>State</th>\n",
       "      <th>Location</th>\n",
       "      <th>Activity</th>\n",
       "      <th>Name</th>\n",
       "      <th>Sex</th>\n",
       "      <th>Age</th>\n",
       "      <th>...</th>\n",
       "      <th>Species</th>\n",
       "      <th>Source</th>\n",
       "      <th>pdf</th>\n",
       "      <th>href formula</th>\n",
       "      <th>href</th>\n",
       "      <th>Case Number</th>\n",
       "      <th>Case Number.1</th>\n",
       "      <th>original order</th>\n",
       "      <th>Unnamed: 21</th>\n",
       "      <th>Unnamed: 22</th>\n",
       "    </tr>\n",
       "  </thead>\n",
       "  <tbody>\n",
       "    <tr>\n",
       "      <th>0</th>\n",
       "      <td>15 Mar 2024</td>\n",
       "      <td>2024.0</td>\n",
       "      <td>Unprovoked</td>\n",
       "      <td>AUSTRALIA</td>\n",
       "      <td>Queensland</td>\n",
       "      <td>Bargara Beach</td>\n",
       "      <td>Swimming</td>\n",
       "      <td>Brooklyn Sauer</td>\n",
       "      <td>F</td>\n",
       "      <td>13</td>\n",
       "      <td>...</td>\n",
       "      <td>Tiger shark</td>\n",
       "      <td>Yahoo News, 3/15/2024</td>\n",
       "      <td>NaN</td>\n",
       "      <td>NaN</td>\n",
       "      <td>NaN</td>\n",
       "      <td>NaN</td>\n",
       "      <td>NaN</td>\n",
       "      <td>NaN</td>\n",
       "      <td>NaN</td>\n",
       "      <td>NaN</td>\n",
       "    </tr>\n",
       "    <tr>\n",
       "      <th>1</th>\n",
       "      <td>04 Mar 2024</td>\n",
       "      <td>2024.0</td>\n",
       "      <td>Unprovoked</td>\n",
       "      <td>USA</td>\n",
       "      <td>Hawaii</td>\n",
       "      <td>Old Man's, Waikiki</td>\n",
       "      <td>Surfing</td>\n",
       "      <td>Matthew White</td>\n",
       "      <td>M</td>\n",
       "      <td>NaN</td>\n",
       "      <td>...</td>\n",
       "      <td>Tiger shark 8'</td>\n",
       "      <td>Surfer, 3/6/2024F</td>\n",
       "      <td>NaN</td>\n",
       "      <td>NaN</td>\n",
       "      <td>NaN</td>\n",
       "      <td>NaN</td>\n",
       "      <td>NaN</td>\n",
       "      <td>NaN</td>\n",
       "      <td>NaN</td>\n",
       "      <td>NaN</td>\n",
       "    </tr>\n",
       "    <tr>\n",
       "      <th>2</th>\n",
       "      <td>02 Mar-2024</td>\n",
       "      <td>2024.0</td>\n",
       "      <td>Unprovoked</td>\n",
       "      <td>USA</td>\n",
       "      <td>Hawaii</td>\n",
       "      <td>Rainbows, Oahu</td>\n",
       "      <td>Swimming</td>\n",
       "      <td>NaN</td>\n",
       "      <td>F</td>\n",
       "      <td>11</td>\n",
       "      <td>...</td>\n",
       "      <td>3' to 4' shark</td>\n",
       "      <td>Hawaii News Now, 3/4/2024</td>\n",
       "      <td>NaN</td>\n",
       "      <td>NaN</td>\n",
       "      <td>NaN</td>\n",
       "      <td>NaN</td>\n",
       "      <td>NaN</td>\n",
       "      <td>NaN</td>\n",
       "      <td>NaN</td>\n",
       "      <td>NaN</td>\n",
       "    </tr>\n",
       "  </tbody>\n",
       "</table>\n",
       "<p>3 rows × 23 columns</p>\n",
       "</div>"
      ],
      "text/plain": [
       "          Date    Year        Type    Country       State            Location  \\\n",
       "0  15 Mar 2024  2024.0  Unprovoked  AUSTRALIA  Queensland       Bargara Beach   \n",
       "1  04 Mar 2024  2024.0  Unprovoked        USA      Hawaii  Old Man's, Waikiki   \n",
       "2  02 Mar-2024  2024.0  Unprovoked        USA      Hawaii      Rainbows, Oahu   \n",
       "\n",
       "   Activity            Name Sex  Age  ...        Species   \\\n",
       "0  Swimming  Brooklyn Sauer   F   13  ...     Tiger shark   \n",
       "1   Surfing   Matthew White   M  NaN  ...  Tiger shark 8'   \n",
       "2  Swimming             NaN   F   11  ...  3' to 4' shark   \n",
       "\n",
       "                      Source  pdf href formula href Case Number Case Number.1  \\\n",
       "0      Yahoo News, 3/15/2024  NaN          NaN  NaN         NaN           NaN   \n",
       "1          Surfer, 3/6/2024F  NaN          NaN  NaN         NaN           NaN   \n",
       "2  Hawaii News Now, 3/4/2024  NaN          NaN  NaN         NaN           NaN   \n",
       "\n",
       "  original order Unnamed: 21 Unnamed: 22  \n",
       "0            NaN         NaN         NaN  \n",
       "1            NaN         NaN         NaN  \n",
       "2            NaN         NaN         NaN  \n",
       "\n",
       "[3 rows x 23 columns]"
      ]
     },
     "execution_count": 144,
     "metadata": {},
     "output_type": "execute_result"
    }
   ],
   "source": [
    "tiburones_df.head(3)"
   ]
  },
  {
   "cell_type": "code",
   "execution_count": 145,
   "id": "f10386e0-e26d-4f40-ae6e-7ea3f2fd4a47",
   "metadata": {},
   "outputs": [
    {
     "data": {
      "text/plain": [
       "(6969, 23)"
      ]
     },
     "execution_count": 145,
     "metadata": {},
     "output_type": "execute_result"
    }
   ],
   "source": [
    "tiburones_df.shape"
   ]
  },
  {
   "cell_type": "code",
   "execution_count": 146,
   "id": "d74aee4e-85ae-45d1-ab84-5bf8725270c3",
   "metadata": {},
   "outputs": [
    {
     "name": "stdout",
     "output_type": "stream",
     "text": [
      "<class 'pandas.core.frame.DataFrame'>\n",
      "RangeIndex: 6969 entries, 0 to 6968\n",
      "Data columns (total 23 columns):\n",
      " #   Column          Non-Null Count  Dtype  \n",
      "---  ------          --------------  -----  \n",
      " 0   Date            6944 non-null   object \n",
      " 1   Year            6942 non-null   float64\n",
      " 2   Type            6926 non-null   object \n",
      " 3   Country         6894 non-null   object \n",
      " 4   State           6462 non-null   object \n",
      " 5   Location        6379 non-null   object \n",
      " 6   Activity        6358 non-null   object \n",
      " 7   Name            6724 non-null   object \n",
      " 8   Sex             6365 non-null   object \n",
      " 9   Age             3950 non-null   object \n",
      " 10  Injury          6909 non-null   object \n",
      " 11  Unnamed: 11     6382 non-null   object \n",
      " 12  Time            3418 non-null   object \n",
      " 13  Species         3812 non-null   object \n",
      " 14  Source          6925 non-null   object \n",
      " 15  pdf             6799 non-null   object \n",
      " 16  href formula    6819 non-null   object \n",
      " 17  href            6796 non-null   object \n",
      " 18  Case Number     6798 non-null   object \n",
      " 19  Case Number.1   6797 non-null   object \n",
      " 20  original order  6799 non-null   float64\n",
      " 21  Unnamed: 21     1 non-null      object \n",
      " 22  Unnamed: 22     2 non-null      object \n",
      "dtypes: float64(2), object(21)\n",
      "memory usage: 1.2+ MB\n"
     ]
    }
   ],
   "source": [
    "tiburones_df.info()"
   ]
  },
  {
   "cell_type": "code",
   "execution_count": 147,
   "id": "867efa4e-2b15-433b-b543-f7106be76a42",
   "metadata": {},
   "outputs": [
    {
     "data": {
      "text/plain": [
       "Index(['Date', 'Year', 'Type', 'Country', 'State', 'Location', 'Activity',\n",
       "       'Name', 'Sex', 'Age', 'Injury', 'Unnamed: 11', 'Time', 'Species ',\n",
       "       'Source', 'pdf', 'href formula', 'href', 'Case Number', 'Case Number.1',\n",
       "       'original order', 'Unnamed: 21', 'Unnamed: 22'],\n",
       "      dtype='object')"
      ]
     },
     "execution_count": 147,
     "metadata": {},
     "output_type": "execute_result"
    }
   ],
   "source": [
    "tiburones_df.columns"
   ]
  },
  {
   "cell_type": "code",
   "execution_count": 148,
   "id": "09e172cd-d5bb-49b6-80a9-45a6cfb82068",
   "metadata": {
    "scrolled": true
   },
   "outputs": [
    {
     "data": {
      "text/plain": [
       "Date              6003\n",
       "Year               259\n",
       "Type                12\n",
       "Country            225\n",
       "State              902\n",
       "Location          4514\n",
       "Activity          1587\n",
       "Name              5683\n",
       "Sex                  8\n",
       "Age                243\n",
       "Injury            4079\n",
       "Unnamed: 11         12\n",
       "Time               410\n",
       "Species           1675\n",
       "Source            5302\n",
       "pdf               6789\n",
       "href formula      6785\n",
       "href              6776\n",
       "Case Number       6777\n",
       "Case Number.1     6775\n",
       "original order    6797\n",
       "Unnamed: 21          1\n",
       "Unnamed: 22          2\n",
       "dtype: int64"
      ]
     },
     "execution_count": 148,
     "metadata": {},
     "output_type": "execute_result"
    }
   ],
   "source": [
    "tiburones_df.nunique()"
   ]
  },
  {
   "cell_type": "markdown",
   "id": "72f591ff-6322-4b20-a670-5534c32c6de6",
   "metadata": {},
   "source": [
    "# Comenzamos a limpiar datos de la tabla"
   ]
  },
  {
   "cell_type": "markdown",
   "id": "ca507b3d-a50e-41bd-9b32-fcaccdbfd285",
   "metadata": {},
   "source": [
    "### Primeros limpiamos columnas que no tienen datos necesarios"
   ]
  },
  {
   "cell_type": "code",
   "execution_count": 149,
   "id": "3f3ceaf1-c31a-418a-a4fe-665a9f34bb63",
   "metadata": {},
   "outputs": [
    {
     "data": {
      "text/plain": [
       "<bound method Series.unique of 0                                                     NaN\n",
       "1                                                     NaN\n",
       "2                                                     NaN\n",
       "3                                                     NaN\n",
       "4                                                     NaN\n",
       "                              ...                        \n",
       "6964    http://sharkattackfile.net/spreadsheets/pdf_di...\n",
       "6965    http://sharkattackfile.net/spreadsheets/pdf_di...\n",
       "6966    http://sharkattackfile.net/spreadsheets/pdf_di...\n",
       "6967    http://sharkattackfile.net/spreadsheets/pdf_di...\n",
       "6968    http://sharkattackfile.net/spreadsheets/pdf_di...\n",
       "Name: href formula, Length: 6969, dtype: object>"
      ]
     },
     "execution_count": 149,
     "metadata": {},
     "output_type": "execute_result"
    }
   ],
   "source": [
    "tiburones_df[\"href formula\"].unique"
   ]
  },
  {
   "cell_type": "markdown",
   "id": "d3ddc237-b3a0-4f66-badb-0e903477c04a",
   "metadata": {},
   "source": [
    "Como contiene datos que no nos interesan los datos de estas columnas por que son fotos la eliminanos con tiburones_df.drop('Name',axis=1,inplace=True)"
   ]
  },
  {
   "cell_type": "code",
   "execution_count": 150,
   "id": "8c4a73f5-78e9-4ee1-8225-73e763c54d0b",
   "metadata": {},
   "outputs": [],
   "source": [
    "tiburones_df.drop(\"href formula\",axis=1,inplace=True)"
   ]
  },
  {
   "cell_type": "code",
   "execution_count": 151,
   "id": "1b020773-d989-4b23-a9a7-465a9a7642f4",
   "metadata": {},
   "outputs": [
    {
     "data": {
      "text/plain": [
       "<bound method Series.unique of 0       NaN\n",
       "1       NaN\n",
       "2       NaN\n",
       "3       NaN\n",
       "4       NaN\n",
       "       ... \n",
       "6964    NaN\n",
       "6965    NaN\n",
       "6966    NaN\n",
       "6967    NaN\n",
       "6968    NaN\n",
       "Name: href, Length: 6969, dtype: object>"
      ]
     },
     "execution_count": 151,
     "metadata": {},
     "output_type": "execute_result"
    }
   ],
   "source": [
    "tiburones_df[\"href\"].unique"
   ]
  },
  {
   "cell_type": "markdown",
   "id": "90a16c44-b53b-4375-bac0-c23016517c1b",
   "metadata": {},
   "source": [
    "Como contiene datos que no nos interesan los datos de estas columnas por que son fotos la eliminanos con tiburones_df.drop('Name',axis=1,inplace=True)"
   ]
  },
  {
   "cell_type": "code",
   "execution_count": 152,
   "id": "07f3c0e5-6ca5-41b1-b356-3beb78b4f90a",
   "metadata": {},
   "outputs": [],
   "source": [
    "tiburones_df.drop(\"href\",axis=1,inplace=True)"
   ]
  },
  {
   "cell_type": "code",
   "execution_count": 153,
   "id": "09d2c730-9568-4739-aba5-cff03ee64c79",
   "metadata": {},
   "outputs": [
    {
     "data": {
      "text/plain": [
       "<bound method Series.unique of 0       NaN\n",
       "1         N\n",
       "2         N\n",
       "3         N\n",
       "4         N\n",
       "       ... \n",
       "6964    NaN\n",
       "6965    NaN\n",
       "6966    NaN\n",
       "6967    NaN\n",
       "6968    NaN\n",
       "Name: Unnamed: 11, Length: 6969, dtype: object>"
      ]
     },
     "execution_count": 153,
     "metadata": {},
     "output_type": "execute_result"
    }
   ],
   "source": [
    "tiburones_df[\"Unnamed: 11\"].unique"
   ]
  },
  {
   "cell_type": "code",
   "execution_count": 154,
   "id": "0a51c5c1-df96-4eb1-aaf6-4c8cee1c0a50",
   "metadata": {},
   "outputs": [],
   "source": [
    "tiburones_df.drop(\"Unnamed: 11\",axis=1,inplace=True)"
   ]
  },
  {
   "cell_type": "code",
   "execution_count": 155,
   "id": "bb55f9f7-f1be-4014-82c9-7a2842b59ed2",
   "metadata": {},
   "outputs": [],
   "source": [
    "tiburones_df.drop(\"Unnamed: 21\",axis=1,inplace=True)"
   ]
  },
  {
   "cell_type": "code",
   "execution_count": 156,
   "id": "e99603c6-9947-4fcc-b882-c003c98a210d",
   "metadata": {},
   "outputs": [],
   "source": [
    "tiburones_df.drop(\"Unnamed: 22\",axis=1,inplace=True)"
   ]
  },
  {
   "cell_type": "code",
   "execution_count": 157,
   "id": "810abab9-5362-434c-9ff1-95e88a7c145c",
   "metadata": {},
   "outputs": [
    {
     "data": {
      "text/plain": [
       "<bound method Series.unique of 0       NaN\n",
       "1       NaN\n",
       "2       NaN\n",
       "3       NaN\n",
       "4       NaN\n",
       "       ... \n",
       "6964    NaN\n",
       "6965    NaN\n",
       "6966    NaN\n",
       "6967    NaN\n",
       "6968    NaN\n",
       "Name: Case Number.1, Length: 6969, dtype: object>"
      ]
     },
     "execution_count": 157,
     "metadata": {},
     "output_type": "execute_result"
    }
   ],
   "source": [
    "tiburones_df[\"Case Number.1\"].unique"
   ]
  },
  {
   "cell_type": "code",
   "execution_count": 158,
   "id": "00fe7ffc-27dd-43ef-a05e-7eabebdb4b3c",
   "metadata": {},
   "outputs": [],
   "source": [
    "tiburones_df.drop(\"Case Number.1\",axis=1,inplace=True)"
   ]
  },
  {
   "cell_type": "code",
   "execution_count": 159,
   "id": "2af1afb5-8f18-439f-885b-56d909ccb81e",
   "metadata": {},
   "outputs": [
    {
     "data": {
      "text/plain": [
       "<bound method Series.unique of 0       NaN\n",
       "1       NaN\n",
       "2       NaN\n",
       "3       NaN\n",
       "4       NaN\n",
       "       ... \n",
       "6964    NaN\n",
       "6965    NaN\n",
       "6966    NaN\n",
       "6967    NaN\n",
       "6968    NaN\n",
       "Name: Case Number, Length: 6969, dtype: object>"
      ]
     },
     "execution_count": 159,
     "metadata": {},
     "output_type": "execute_result"
    }
   ],
   "source": [
    "tiburones_df[\"Case Number\"].unique"
   ]
  },
  {
   "cell_type": "code",
   "execution_count": 160,
   "id": "647a39ec-e359-43d2-aea0-0d773b4c8ea9",
   "metadata": {},
   "outputs": [],
   "source": [
    "tiburones_df.drop(\"Case Number\",axis=1,inplace=True)"
   ]
  },
  {
   "cell_type": "code",
   "execution_count": 161,
   "id": "f6c4a5a7-13ec-4aa1-8886-06d24079a0ee",
   "metadata": {},
   "outputs": [
    {
     "data": {
      "text/plain": [
       "<bound method Series.unique of 0      NaN\n",
       "1      NaN\n",
       "2      NaN\n",
       "3      NaN\n",
       "4      NaN\n",
       "        ..\n",
       "6964   NaN\n",
       "6965   NaN\n",
       "6966   NaN\n",
       "6967   NaN\n",
       "6968   NaN\n",
       "Name: original order, Length: 6969, dtype: float64>"
      ]
     },
     "execution_count": 161,
     "metadata": {},
     "output_type": "execute_result"
    }
   ],
   "source": [
    "tiburones_df[\"original order\"].unique"
   ]
  },
  {
   "cell_type": "code",
   "execution_count": 162,
   "id": "b44b3e3d-d95f-49f2-8d48-bb6a49ee64cb",
   "metadata": {},
   "outputs": [],
   "source": [
    "tiburones_df.drop(\"original order\",axis=1,inplace=True)"
   ]
  },
  {
   "cell_type": "code",
   "execution_count": 163,
   "id": "d2961b55-963e-4c6e-b200-5e049343a1ef",
   "metadata": {},
   "outputs": [],
   "source": [
    "tiburones_df.drop(\"Year\",axis=1,inplace=True)"
   ]
  },
  {
   "cell_type": "code",
   "execution_count": 164,
   "id": "0b3729b7-a498-4c37-b60d-466db5f17571",
   "metadata": {},
   "outputs": [],
   "source": [
    "tiburones_df.drop('Source',axis=1,inplace=True)"
   ]
  },
  {
   "cell_type": "code",
   "execution_count": 165,
   "id": "ebc45315-8565-48b1-a31f-749992c5e50a",
   "metadata": {},
   "outputs": [],
   "source": [
    "tiburones_df.drop('pdf',axis=1,inplace=True)"
   ]
  },
  {
   "cell_type": "code",
   "execution_count": 166,
   "id": "645a105f-6310-4c6f-a0df-d1b4a26c26f9",
   "metadata": {},
   "outputs": [
    {
     "data": {
      "text/html": [
       "<div>\n",
       "<style scoped>\n",
       "    .dataframe tbody tr th:only-of-type {\n",
       "        vertical-align: middle;\n",
       "    }\n",
       "\n",
       "    .dataframe tbody tr th {\n",
       "        vertical-align: top;\n",
       "    }\n",
       "\n",
       "    .dataframe thead th {\n",
       "        text-align: right;\n",
       "    }\n",
       "</style>\n",
       "<table border=\"1\" class=\"dataframe\">\n",
       "  <thead>\n",
       "    <tr style=\"text-align: right;\">\n",
       "      <th></th>\n",
       "      <th>Date</th>\n",
       "      <th>Type</th>\n",
       "      <th>Country</th>\n",
       "      <th>State</th>\n",
       "      <th>Location</th>\n",
       "      <th>Activity</th>\n",
       "      <th>Name</th>\n",
       "      <th>Sex</th>\n",
       "      <th>Age</th>\n",
       "      <th>Injury</th>\n",
       "      <th>Time</th>\n",
       "      <th>Species</th>\n",
       "    </tr>\n",
       "  </thead>\n",
       "  <tbody>\n",
       "    <tr>\n",
       "      <th>0</th>\n",
       "      <td>15 Mar 2024</td>\n",
       "      <td>Unprovoked</td>\n",
       "      <td>AUSTRALIA</td>\n",
       "      <td>Queensland</td>\n",
       "      <td>Bargara Beach</td>\n",
       "      <td>Swimming</td>\n",
       "      <td>Brooklyn Sauer</td>\n",
       "      <td>F</td>\n",
       "      <td>13</td>\n",
       "      <td>Minor injuries to back, abdomen and legs</td>\n",
       "      <td>16h00</td>\n",
       "      <td>Tiger shark</td>\n",
       "    </tr>\n",
       "    <tr>\n",
       "      <th>1</th>\n",
       "      <td>04 Mar 2024</td>\n",
       "      <td>Unprovoked</td>\n",
       "      <td>USA</td>\n",
       "      <td>Hawaii</td>\n",
       "      <td>Old Man's, Waikiki</td>\n",
       "      <td>Surfing</td>\n",
       "      <td>Matthew White</td>\n",
       "      <td>M</td>\n",
       "      <td>NaN</td>\n",
       "      <td>No injury, shark bit surfboard</td>\n",
       "      <td>NaN</td>\n",
       "      <td>Tiger shark 8'</td>\n",
       "    </tr>\n",
       "    <tr>\n",
       "      <th>2</th>\n",
       "      <td>02 Mar-2024</td>\n",
       "      <td>Unprovoked</td>\n",
       "      <td>USA</td>\n",
       "      <td>Hawaii</td>\n",
       "      <td>Rainbows, Oahu</td>\n",
       "      <td>Swimming</td>\n",
       "      <td>NaN</td>\n",
       "      <td>F</td>\n",
       "      <td>11</td>\n",
       "      <td>Lacerations to left foot</td>\n",
       "      <td>13h30</td>\n",
       "      <td>3' to 4' shark</td>\n",
       "    </tr>\n",
       "  </tbody>\n",
       "</table>\n",
       "</div>"
      ],
      "text/plain": [
       "          Date        Type    Country       State            Location  \\\n",
       "0  15 Mar 2024  Unprovoked  AUSTRALIA  Queensland       Bargara Beach   \n",
       "1  04 Mar 2024  Unprovoked        USA      Hawaii  Old Man's, Waikiki   \n",
       "2  02 Mar-2024  Unprovoked        USA      Hawaii      Rainbows, Oahu   \n",
       "\n",
       "   Activity            Name Sex  Age  \\\n",
       "0  Swimming  Brooklyn Sauer   F   13   \n",
       "1   Surfing   Matthew White   M  NaN   \n",
       "2  Swimming             NaN   F   11   \n",
       "\n",
       "                                     Injury   Time        Species   \n",
       "0  Minor injuries to back, abdomen and legs  16h00     Tiger shark  \n",
       "1            No injury, shark bit surfboard    NaN  Tiger shark 8'  \n",
       "2                  Lacerations to left foot  13h30  3' to 4' shark  "
      ]
     },
     "execution_count": 166,
     "metadata": {},
     "output_type": "execute_result"
    }
   ],
   "source": [
    "tiburones_df.head(3)"
   ]
  },
  {
   "cell_type": "code",
   "execution_count": 167,
   "id": "29702731-7e8d-42eb-9931-c7485b96d1c7",
   "metadata": {},
   "outputs": [
    {
     "data": {
      "text/plain": [
       "4079"
      ]
     },
     "execution_count": 167,
     "metadata": {},
     "output_type": "execute_result"
    }
   ],
   "source": [
    "tiburones_df[\"Injury\"].nunique()"
   ]
  },
  {
   "cell_type": "code",
   "execution_count": 168,
   "id": "3406cff7-5444-4b7a-a80d-488723fe9e03",
   "metadata": {},
   "outputs": [
    {
     "data": {
      "text/plain": [
       "Index(['Date', 'Type', 'Country', 'State', 'Location', 'Activity', 'Name',\n",
       "       'Sex', 'Age', 'Injury', 'Time', 'Species '],\n",
       "      dtype='object')"
      ]
     },
     "execution_count": 168,
     "metadata": {},
     "output_type": "execute_result"
    }
   ],
   "source": [
    "tiburones_df.columns"
   ]
  },
  {
   "cell_type": "markdown",
   "id": "9f75c967-3b6a-4ed9-86e2-85bcf2f45f53",
   "metadata": {},
   "source": [
    "### Limpiamos columnas para agrupar datos"
   ]
  },
  {
   "cell_type": "code",
   "execution_count": 169,
   "id": "f460f385-dfcc-4bce-aaac-23157534d074",
   "metadata": {
    "scrolled": true
   },
   "outputs": [
    {
     "data": {
      "text/plain": [
       "Sex  \n",
       "M        5578\n",
       "F         779\n",
       "M           2\n",
       "N           2\n",
       " M          1\n",
       ".           1\n",
       "M x 2       1\n",
       "lli         1\n",
       "Name: count, dtype: int64"
      ]
     },
     "execution_count": 169,
     "metadata": {},
     "output_type": "execute_result"
    }
   ],
   "source": [
    "tiburones_df[[\"Sex\"]].value_counts()"
   ]
  },
  {
   "cell_type": "markdown",
   "id": "3b0130b6-fbf5-4fb2-b24e-40587e6af883",
   "metadata": {},
   "source": [
    "#### Limpieza de columna 'Sex'"
   ]
  },
  {
   "cell_type": "code",
   "execution_count": 170,
   "id": "9d099234-767e-4526-84d0-eafcb2ea49c3",
   "metadata": {},
   "outputs": [],
   "source": [
    "tiburones_df[\"Sex\"] = tiburones_df[\"Sex\"].astype(str)"
   ]
  },
  {
   "cell_type": "code",
   "execution_count": 171,
   "id": "c0b9d22f-ccc2-4505-9afc-b9583cddd50f",
   "metadata": {},
   "outputs": [],
   "source": [
    "mapping = {\n",
    "    ' M' : 'Male',\n",
    "    'M ' : 'Male', \n",
    "    'M x 2' : 'Male',\n",
    "    'M' : 'Male',\n",
    "    'F' : 'Female',\n",
    "    'N' : 'nan',\n",
    "    'lli' : 'nan',\n",
    "    '.' : 'nan',\n",
    "}\n",
    "\n",
    "# Reemplazamos los datos de M x 2 y los diversos datos de M por \"Male\" y F por \"Female\"\n",
    "tiburones_df[\"Sex\"] = tiburones_df[\"Sex\"].replace(mapping)"
   ]
  },
  {
   "cell_type": "code",
   "execution_count": 172,
   "id": "f3bb47fd-7a2d-40f4-ade6-3d3a274764f6",
   "metadata": {},
   "outputs": [
    {
     "data": {
      "text/plain": [
       "Sex\n",
       "Male      5582\n",
       "Female     779\n",
       "nan        608\n",
       "Name: count, dtype: int64"
      ]
     },
     "execution_count": 172,
     "metadata": {},
     "output_type": "execute_result"
    }
   ],
   "source": [
    "tiburones_df[\"Sex\"].value_counts()"
   ]
  },
  {
   "cell_type": "markdown",
   "id": "49f429b0-566e-4b2e-a30c-14254742f00f",
   "metadata": {},
   "source": [
    "Ahora, que tenemos agrupados los datos en Male/Female, vamos a limpiar los datos que no tienen ninguna información importante"
   ]
  },
  {
   "cell_type": "code",
   "execution_count": 173,
   "id": "2170e460-8bca-4077-b3a5-6d3d6466952a",
   "metadata": {},
   "outputs": [],
   "source": [
    "tiburones_df = tiburones_df.drop(tiburones_df[tiburones_df['Sex'] == 'nan'].index)"
   ]
  },
  {
   "cell_type": "code",
   "execution_count": 174,
   "id": "4e2bd817-d7b7-4bf4-acc6-2c03dde77ad1",
   "metadata": {},
   "outputs": [
    {
     "data": {
      "text/plain": [
       "Sex   \n",
       "Male      5582\n",
       "Female     779\n",
       "Name: count, dtype: int64"
      ]
     },
     "execution_count": 174,
     "metadata": {},
     "output_type": "execute_result"
    }
   ],
   "source": [
    "tiburones_df[[\"Sex\"]].value_counts()"
   ]
  },
  {
   "cell_type": "markdown",
   "id": "d9b63554-5a9d-41bf-8259-a25ac44c9a50",
   "metadata": {},
   "source": [
    "### Limpiar Años"
   ]
  },
  {
   "cell_type": "code",
   "execution_count": 175,
   "id": "54b1c513-acb1-4dd4-b53b-2e866386d5da",
   "metadata": {},
   "outputs": [],
   "source": [
    "tiburones_df['Year'] = tiburones_df[\"Date\"].str[-4:]"
   ]
  },
  {
   "cell_type": "code",
   "execution_count": 176,
   "id": "4c679805-cfb5-4851-877d-00eb2d3af0c8",
   "metadata": {},
   "outputs": [],
   "source": [
    "tiburones_df.drop(\"Date\",axis=1,inplace=True)"
   ]
  },
  {
   "cell_type": "code",
   "execution_count": 177,
   "id": "ca3387d3-e759-4232-b5e3-688e037cef56",
   "metadata": {},
   "outputs": [
    {
     "data": {
      "text/plain": [
       "Year\n",
       "2015    141\n",
       "2017    134\n",
       "2016    128\n",
       "2018    123\n",
       "2011    122\n",
       "       ... \n",
       "1857      1\n",
       "1859      1\n",
       "955       1\n",
       "rted      1\n",
       "930s      1\n",
       "Name: count, Length: 300, dtype: int64"
      ]
     },
     "execution_count": 177,
     "metadata": {},
     "output_type": "execute_result"
    }
   ],
   "source": [
    "tiburones_df['Year'].value_counts()"
   ]
  },
  {
   "cell_type": "markdown",
   "id": "81f7bb08-112e-4e4e-8f68-adc09274f685",
   "metadata": {},
   "source": [
    "### Limpiar Especies"
   ]
  },
  {
   "cell_type": "markdown",
   "id": "4db4f8b1-e346-45c1-982f-7688c9d6dfd1",
   "metadata": {},
   "source": [
    "Primero cambiamos el nombre de la columna"
   ]
  },
  {
   "cell_type": "code",
   "execution_count": 178,
   "id": "887edf3f-141b-465f-a44d-c88f5ec2e31a",
   "metadata": {},
   "outputs": [
    {
     "data": {
      "text/plain": [
       "Index(['Type', 'Country', 'State', 'Location', 'Activity', 'Name', 'Sex',\n",
       "       'Age', 'Injury', 'Time', 'Species', 'Year'],\n",
       "      dtype='object')"
      ]
     },
     "execution_count": 178,
     "metadata": {},
     "output_type": "execute_result"
    }
   ],
   "source": [
    "tiburones_df.rename(columns={'Species ': 'Species'}, inplace=True)\n",
    "tiburones_df.columns"
   ]
  },
  {
   "cell_type": "markdown",
   "id": "e0c44d68-7bb0-49fb-aba3-8c832c11a511",
   "metadata": {},
   "source": [
    "### Limpiamos Especies"
   ]
  },
  {
   "cell_type": "code",
   "execution_count": 179,
   "id": "c5c7a584-a2f9-47c1-a902-e3c715496254",
   "metadata": {},
   "outputs": [],
   "source": [
    "def replace_with_white_shark(value):\n",
    "    if pd.notna(value):  # Check if value is not NaN\n",
    "        if 'white' in value.lower():\n",
    "            return 'White Shark'\n",
    "    return value \n",
    "\n",
    "tiburones_df[\"Species\"] = tiburones_df[\"Species\"].apply(replace_with_white_shark)\n",
    "\n",
    "def replace_with_tiger_shark(value):\n",
    "    if pd.notna(value):  # Check if value is not NaN\n",
    "        if 'tiger' in value.lower():\n",
    "            return 'Tiger Shark'\n",
    "    return value \n",
    "\n",
    "tiburones_df[\"Species\"] = tiburones_df[\"Species\"].apply(replace_with_tiger_shark)\n",
    "\n",
    "def replace_with_bull_shark(value):\n",
    "    if pd.notna(value):\n",
    "        if 'bull' in value.lower():\n",
    "            return 'Bull Shark'\n",
    "    return value \n",
    "\n",
    "tiburones_df[\"Species\"] = tiburones_df[\"Species\"].apply(replace_with_bull_shark)\n",
    "\n",
    "def replace_with_grey_nurse_shark(value):\n",
    "    if pd.notna(value):\n",
    "        if 'nurse' in value.lower(): \n",
    "            return 'Nurse Shark'\n",
    "    return value \n",
    "\n",
    "tiburones_df[\"Species\"] = tiburones_df[\"Species\"].apply(replace_with_grey_nurse_shark)\n",
    "\n",
    "def replace_with_blacktip_shark(value):\n",
    "    if pd.notna(value): \n",
    "        if 'blacktip' in value.lower(): \n",
    "            return 'Blacktip Shark'\n",
    "    return value \n",
    "\n",
    "tiburones_df[\"Species\"] = tiburones_df[\"Species\"].apply(replace_with_blacktip_shark)\n",
    "\n",
    "def replace_with_hammerhead_shark(value):\n",
    "    if pd.notna(value):\n",
    "        if 'hammerhead' in value.lower(): \n",
    "            return 'Hammerhead Shark'\n",
    "    return value \n",
    "\n",
    "tiburones_df[\"Species\"] = tiburones_df[\"Species\"].apply(replace_with_hammerhead_shark)\n",
    "\n",
    "def replace_with_lemon_shark(value):\n",
    "    if pd.notna(value):\n",
    "        if 'lemon' in value.lower(): \n",
    "            return 'Lemon Shark'\n",
    "    return value\n",
    "\n",
    "tiburones_df[\"Species\"] = tiburones_df[\"Species\"].apply(replace_with_lemon_shark)\n",
    "\n",
    "def replace_with_blue_shark(value):\n",
    "    if pd.notna(value):  # Check if value is not NaN\n",
    "        if 'blue' in value.lower(): \n",
    "            return 'Blue Shark'\n",
    "    return value\n",
    "\n",
    "tiburones_df[\"Species\"] = tiburones_df[\"Species\"].apply(replace_with_blue_shark)\n",
    "\n",
    "def replace_with_brown_shark(value):\n",
    "    if pd.notna(value):  # Check if value is not NaN\n",
    "        if 'brown' in value.lower(): \n",
    "            return 'Brown Shark'\n",
    "    return value\n",
    "\n",
    "tiburones_df[\"Species\"] = tiburones_df[\"Species\"].apply(replace_with_brown_shark)\n",
    "\n",
    "def replace_with_raggedtooth_shark(value):\n",
    "    if pd.notna(value):  # Check if value is not NaN\n",
    "        if 'raggedtooth' in value.lower(): \n",
    "            return 'Raggedtooth Shark'\n",
    "    return value\n",
    "\n",
    "tiburones_df[\"Species\"] = tiburones_df[\"Species\"].apply(replace_with_raggedtooth_shark)\n",
    "\n",
    "def replace_with_bronze_shark(value):\n",
    "    if pd.notna(value):  # Check if value is not NaN\n",
    "        if 'bronze' in value.lower(): \n",
    "            return 'Bronze Shark'\n",
    "    return value\n",
    "\n",
    "tiburones_df[\"Species\"] = tiburones_df[\"Species\"].apply(replace_with_bronze_shark)\n",
    "\n",
    "def replace_with_caribbean_shark(value):\n",
    "    if pd.notna(value):  # Check if value is not NaN\n",
    "        if 'caribbean' in value.lower(): \n",
    "            return 'Caribbean Shark'\n",
    "    return value\n",
    "\n",
    "tiburones_df[\"Species\"] = tiburones_df[\"Species\"].apply(replace_with_caribbean_shark)\n",
    "\n",
    "def replace_with_mako_shark(value):\n",
    "    if pd.notna(value):  # Check if value is not NaN\n",
    "        if 'mako' in value.lower(): \n",
    "            return 'Mako Shark'\n",
    "    return value\n",
    "\n",
    "tiburones_df[\"Species\"] = tiburones_df[\"Species\"].apply(replace_with_mako_shark)"
   ]
  },
  {
   "cell_type": "code",
   "execution_count": 180,
   "id": "da3c1e27-d6ae-4e59-90a6-fadbe3aea1db",
   "metadata": {},
   "outputs": [],
   "source": [
    "tiburones_df[\"Species\"] = tiburones_df[\"Species\"].str.replace(r\".[0-9].\", 'NA', regex=True)"
   ]
  },
  {
   "cell_type": "code",
   "execution_count": 181,
   "id": "0f92beb4-aea6-44e9-a7d5-6782391a7e0e",
   "metadata": {},
   "outputs": [],
   "source": [
    "mapping = {\n",
    "    ' ' : 'NA',\n",
    "    'no shark involvement' : 'NA',\n",
    "    'no shark invovlement' : 'NA',\n",
    "    'no shark invovlement - it ws a publicity stunt' : 'NA',\n",
    "    'Invalid' : 'NA',\n",
    "    'Invalid incident' : 'NA',\n",
    "    'Questionable' :'NA',\n",
    "    'Questionable incident' :'NA',\n",
    "    '\"small sharks\"' : 'NA',\n",
    "    '\"a small shark\"' : 'NA',\n",
    "    'No shark involvement' : 'NA',\n",
    "    '1NAm NA] shark' : 'NA',\n",
    "    'Shark involvement prior to death was not confirmed' : 'NA',\n",
    "    'Shark involvement not confirmed ' : 'NA',\n",
    "    'NA shark ' : 'NA',\n",
    "    '1NAm shark' : 'NA',\n",
    "    \"4' shark\" : 'NA',\n",
    "    \"6' shark\" : 'NA',\n",
    "    \"4' toNA shark\" : 'NA',\n",
    "    \"2NAm NA] shark\" : 'NA',\n",
    "    \"3' shark\" : 'NA',\n",
    "    \"5' shark\" : 'NA', \n",
    "    \"3' toNA shark\" : 'NA',\n",
    "    \"2 m shark\" : 'NA',\n",
    "    \"3 m NA'] shark\": 'NA',\n",
    "    \"3 m shark\": 'NA', \n",
    "    \"1NAm toNA5 m NA toNA] shark\": 'NA',\n",
    "    \"3NAm NA'] shark\": 'NA',\n",
    "    \"7' shark\": 'NA', \n",
    "    \"8' shark\": 'NA',\n",
    "    \"5' toNA shark\": 'NA',\n",
    "    \"2NAm shark\": 'NA',\n",
    "    \"2' toNA shark\": 'NA',\n",
    "    \"a small shark\": 'NA',\n",
    "    \"Shark involvement prior to death not confirmed\": 'NA',\n",
    "    \"1 m shark\": 'NA',   \n",
    "    \"Shark involvement not confirmed\": 'NA',\n",
    "    \"Shark involvement prior to death unconfirmed\": 'NA',\n",
    "    \"NA shark\": 'NA',\n",
    "}\n",
    "\n",
    "# Reemplazamos los datos de M x 2 y los diversos datos de M por \"Male\" y F por \"Female\"\n",
    "tiburones_df[\"Species\"]= tiburones_df[\"Species\"].replace(mapping)"
   ]
  },
  {
   "cell_type": "code",
   "execution_count": 182,
   "id": "69a5dd4b-1c94-4e40-9211-7986dbfe503e",
   "metadata": {},
   "outputs": [],
   "source": [
    "tiburones_df = tiburones_df.drop(tiburones_df[tiburones_df['Species'] == 'NA'].index)"
   ]
  },
  {
   "cell_type": "code",
   "execution_count": 183,
   "id": "2d69af1c-de9e-4b4a-932f-2e9a58e387f5",
   "metadata": {},
   "outputs": [
    {
     "data": {
      "text/plain": [
       "Species\n",
       "White Shark          651\n",
       "Tiger Shark          313\n",
       "Bull Shark           209\n",
       "Blacktip Shark       129\n",
       "Nurse Shark          108\n",
       "Bronze Shark          67\n",
       "Blue Shark            54\n",
       "Mako Shark            46\n",
       "Hammerhead Shark      44\n",
       "Lemon Shark           42\n",
       "Raggedtooth Shark     42\n",
       "Wobbegong shark       27\n",
       "Name: count, dtype: int64"
      ]
     },
     "execution_count": 183,
     "metadata": {},
     "output_type": "execute_result"
    }
   ],
   "source": [
    "tiburones_df[\"Species\"].value_counts().head(12)"
   ]
  },
  {
   "cell_type": "markdown",
   "id": "d9d3903b-02e7-488e-b27d-3f21bb4a56c3",
   "metadata": {},
   "source": [
    "### Limpiar Estados"
   ]
  },
  {
   "cell_type": "code",
   "execution_count": 184,
   "id": "7b3b1f1b-4884-4f87-9e31-5cfbdda8f229",
   "metadata": {},
   "outputs": [],
   "source": [
    "tiburones_df['State'] = tiburones_df['State'].astype(str)\n",
    "tiburones_df['State'] = tiburones_df['State'].str.upper().str.replace(' ','_')\n",
    "tiburones_df['State'] = tiburones_df['State'].str.replace('?','')\n",
    "tiburones_df['State'] = tiburones_df['State'].str.replace(',','')\n",
    "tiburones_df['State'] = tiburones_df['State'].str.replace(r\"[0-9]\", '', regex=True)\n",
    "tiburones_df['State'] = tiburones_df['State'].str.replace(r\"ºS,_ºE\", '', regex=True)\n",
    "tiburones_df['State'] = tiburones_df['State'].str.replace(r\"KM_OFF_THE_COAST_OF_\", '', regex=True)\n",
    "tiburones_df['State'] = tiburones_df['State'].str.replace(r\"&_KM_FROM\", '', regex=True)\n",
    "tiburones_df['State'] = tiburones_df['State'].str.replace(r\"_MILES_FROM\", '', regex=True)\n",
    "tiburones_df['State'] = tiburones_df['State'].str.replace(r\"_MILES_FROM\", '', regex=True)\n",
    "tiburones_df['State'] = tiburones_df['State'].str.replace(r\"OFF_\", '', regex=True)\n",
    "tiburones_df['State'] = tiburones_df['State'].str.replace(r\",\", '', regex=True)\n",
    "tiburones_df['State'] = tiburones_df['State'].str.replace(r\"MILES_FROM_\", '', regex=True)\n",
    "tiburones_df['State'] = tiburones_df['State'].str.replace(r\"_\", '', regex=True)\n",
    "tiburones_df['State'] = tiburones_df['State'].str.replace(r\"_\", '', regex=True)\n",
    "tiburones_df['State'] = tiburones_df['State'].str.replace(r\"MILES_EAST_OF_\", '', regex=True)\n",
    "tiburones_df['State'] = tiburones_df['State'].str.replace(r\"MILES_SE_OF_\", '', regex=True)\n",
    "tiburones_df['State'] = tiburones_df['State'].str.replace(r\"MILES_SOUTHWEST_OF_O'AHU_\", '', regex=True)\n",
    "tiburones_df['State'] = tiburones_df['State'].str.replace(r\"MILES_SOUTHEAST_OF_\", '', regex=True)\n",
    "tiburones_df['State'] = tiburones_df['State'].str.replace(r\"MILES_SOUTH_OF_\", '', regex=True)\n",
    "tiburones_df['State'] = tiburones_df['State'].str.replace(r\"MILES_NORTH_OF_\", '', regex=True)\n",
    "tiburones_df['State'] = tiburones_df['State'].str.replace(r\"MILES_SOUTH_OF_\", '', regex=True)\n",
    "tiburones_df['State'] = tiburones_df['State'].str.lstrip('_')\n",
    "tiburones_df['State'] = tiburones_df['State'].str.rstrip('_')"
   ]
  },
  {
   "cell_type": "markdown",
   "id": "53d8922e-f3f4-4cbd-a1ec-8bf8f1ee1932",
   "metadata": {},
   "source": [
    "### Limpiar Activity "
   ]
  },
  {
   "cell_type": "code",
   "execution_count": 185,
   "id": "adbb3251-585e-42cc-bc64-9b12349a0eec",
   "metadata": {},
   "outputs": [],
   "source": [
    "tiburones_df['Activity'] = tiburones_df['Activity'].astype(str)\n",
    "tiburones_df['Activity'] = tiburones_df['Activity'].str.lower().str.replace(' ','_')\n",
    "tiburones_df['Activity'] = tiburones_df['Activity'].str.lower().str.replace('_',' ')\n",
    "tiburones_df['Activity'] = tiburones_df['Activity'].str.replace('?','')\n",
    "tiburones_df['Activity'] = tiburones_df['Activity'].str.lstrip('_')\n",
    "tiburones_df['Activity'] = tiburones_df['Activity'].str.lstrip(' ')\n",
    "tiburones_df['Activity'] = tiburones_df['Activity'].str.lstrip(' ')\n",
    "tiburones_df['Activity'] = tiburones_df['Activity'].str.lstrip('.')\n",
    "tiburones_df['Activity'] = tiburones_df['Activity'].str.lstrip('')\n",
    "tiburones_df['Activity'] = tiburones_df['Activity'].str.replace(r\".*swimming.*\", 'swimming', regex=True)\n",
    "tiburones_df['Activity'] = tiburones_df['Activity'].str.replace(r\".*coming.*\", 'swimming', regex=True)\n",
    "tiburones_df['Activity'] = tiburones_df['Activity'].str.replace(r\".*escaping from alacatraz.*\", 'swimming', regex=True)\n",
    "tiburones_df['Activity'] = tiburones_df['Activity'].str.replace(r\".*cross.*\", 'swimming', regex=True)\n",
    "tiburones_df['Activity'] = tiburones_df['Activity'].str.replace(r\".*attempting.*\", 'swimming', regex=True)\n",
    "tiburones_df['Activity'] = tiburones_df['Activity'].str.replace(r\".*div.*\", 'swimming', regex=True)\n",
    "tiburones_df['Activity'] = tiburones_df['Activity'].str.replace(r\".*surf.*\", 'surfing', regex=True)\n",
    "tiburones_df['Activity'] = tiburones_df['Activity'].str.replace(r\".*board.*\", 'surfing', regex=True)\n",
    "tiburones_df['Activity'] = tiburones_df['Activity'].str.replace(r\".*snork.*\", 'swimming', regex=True)\n",
    "tiburones_df['Activity'] = tiburones_df['Activity'].str.replace(r\".*diving.*\", 'diving', regex=True)\n",
    "tiburones_df['Activity'] = tiburones_df['Activity'].str.replace(r\".*fishing.*\", 'fishing', regex=True)\n",
    "tiburones_df['Activity'] = tiburones_df['Activity'].str.replace(r\".*flounder.*\", 'fishing', regex=True)\n",
    "tiburones_df['Activity'] = tiburones_df['Activity'].str.replace(r\".*net.*\", 'fishing', regex=True)\n",
    "tiburones_df['Activity'] = tiburones_df['Activity'].str.replace(r\".*fihing.*\", 'fishing', regex=True)\n",
    "tiburones_df['Activity'] = tiburones_df['Activity'].str.replace(r\".*hunt.*\", 'fishing', regex=True)\n",
    "tiburones_df['Activity'] = tiburones_df['Activity'].str.replace(r\".*angling.*\", 'fishing', regex=True)\n",
    "tiburones_df['Activity'] = tiburones_df['Activity'].str.replace(r\".*catch.*\", 'fishing', regex=True)\n",
    "tiburones_df['Activity'] = tiburones_df['Activity'].str.replace(r\".*lob.*\", 'fishing', regex=True)\n",
    "tiburones_df['Activity'] = tiburones_df['Activity'].str.replace(r\".*cast.*\", 'fishing', regex=True)\n",
    "tiburones_df['Activity'] = tiburones_df['Activity'].str.replace(r\".*gath.*\", 'fishing', regex=True)\n",
    "tiburones_df['Activity'] = tiburones_df['Activity'].str.replace(r\".*spear.*\", 'fishing', regex=True)\n",
    "tiburones_df['Activity'] = tiburones_df['Activity'].str.replace(r\".*surfng.*\", 'surfing', regex=True)\n",
    "tiburones_df['Activity'] = tiburones_df['Activity'].str.replace(r\".*surf-.*\", 'surfing', regex=True)\n",
    "tiburones_df['Activity'] = tiburones_df['Activity'].str.replace(r\".*padd.*\", 'surfing', regex=True)\n",
    "tiburones_df['Activity'] = tiburones_df['Activity'].str.replace(r\".*skiing.*\", 'water sports', regex=True)\n",
    "tiburones_df['Activity'] = tiburones_df['Activity'].str.replace(r\".*kayaking.*\", 'Beach activity', regex=True)\n",
    "tiburones_df['Activity'] = tiburones_df['Activity'].str.replace(r\".*paddleboarding.*\", 'Beach activity', regex=True)\n",
    "tiburones_df['Activity'] = tiburones_df['Activity'].str.replace(r\".*lifeguard.*\", 'Lifeguard Activity', regex=True)\n",
    "tiburones_df['Activity'] = tiburones_df['Activity'].str.replace(r\".*lifesaving.*\", 'Lifeguard Activity', regex=True)\n",
    "tiburones_df['Activity'] = tiburones_df['Activity'].str.replace(r\".*harp.*\", 'fishing', regex=True)\n",
    "tiburones_df['Activity'] = tiburones_df['Activity'].str.replace(r\".*collecting fish from net.*\", 'fishing', regex=True)\n",
    "tiburones_df['Activity'] = tiburones_df['Activity'].str.replace(r\".*collect.*\", 'fishing', regex=True)\n",
    "tiburones_df['Activity'] = tiburones_df['Activity'].str.replace(r\".*collecting fish in military trap when bit....*\", 'fishing', regex=True)\n",
    "tiburones_df['Activity'] = tiburones_df['Activity'].str.replace(r\".*swimming.*\", 'swimming', regex=True)\n",
    "tiburones_df['Activity'] = tiburones_df['Activity'].str.replace(r\".*mming.*\", 'swimming', regex=True)\n",
    "tiburones_df['Activity'] = tiburones_df['Activity'].str.replace(r\".*hunting crayfish*\", 'fishing', regex=True)\n",
    "tiburones_df['Activity'] = tiburones_df['Activity'].str.replace(r\".*collecting crayfish*\", 'fishing', regex=True)\n",
    "tiburones_df['Activity'] = tiburones_df['Activity'].str.replace(r\".*setting crayfish pots*\", 'fishing', regex=True)\n",
    "tiburones_df['Activity'] = tiburones_df['Activity'].str.replace(r\".*clams*\", 'fishing', regex=True)\n",
    "tiburones_df['Activity'] = tiburones_df['Activity'].str.replace(r\".*oyst*\", 'fishing', regex=True)\n",
    "tiburones_df['Activity'] = tiburones_df['Activity'].str.replace(r\".*riding*\", 'Beach activity', regex=True)\n",
    "tiburones_df['Activity'] = tiburones_df['Activity'].str.replace(r\".*shark.*\", 'direct interaction with a shark', regex=True)\n",
    "tiburones_df['Activity'] = tiburones_df['Activity'].str.replace(r\".*aquar.*\", 'direct interaction with a shark', regex=True)\n",
    "tiburones_df['Activity'] = tiburones_df['Activity'].str.replace(r\".*ship.*\", 'Shipaccident (Shipwreck)', regex=True)\n",
    "tiburones_df['Activity'] = tiburones_df['Activity'].str.replace(r\".*caps.*\", 'Shipaccident (Shipwreck)', regex=True)\n",
    "tiburones_df['Activity'] = tiburones_df['Activity'].str.replace(r\".*over.*\", 'Shipaccident (Shipwreck)', regex=True)\n",
    "tiburones_df['Activity'] = tiburones_df['Activity'].str.replace(r\".*row.*\", 'Shipaccident (Shipwreck)', regex=True)\n",
    "tiburones_df['Activity'] = tiburones_df['Activity'].str.replace(r\".*yacht.*\", 'Shipaccident (Shipwreck)', regex=True)\n",
    "tiburones_df['Activity'] = tiburones_df['Activity'].str.replace(r\".*boat.*\", 'Shipaccident (Shipwreck)', regex=True)\n",
    "tiburones_df['Activity'] = tiburones_df['Activity'].str.replace(r\".*wreck.*\", 'Shipaccident (Shipwreck)', regex=True)\n",
    "tiburones_df['Activity'] = tiburones_df['Activity'].str.replace(r\".*ka.*\", 'Shipaccident (Shipwreck)', regex=True)\n",
    "tiburones_df['Activity'] = tiburones_df['Activity'].str.replace(r\".*crash.*\", 'Shipaccident (Shipwreck)', regex=True)\n",
    "tiburones_df['Activity'] = tiburones_df['Activity'].str.replace(r\".*pa.*\", 'Shipaccident (Shipwreck)', regex=True)\n",
    "tiburones_df['Activity'] = tiburones_df['Activity'].str.replace(r\".*ess.*\", 'Shipaccident (Shipwreck)', regex=True)\n",
    "tiburones_df['Activity'] = tiburones_df['Activity'].str.replace(r\".*fell.*\", 'Shipaccident (Shipwreck)', regex=True)\n",
    "tiburones_df['Activity'] = tiburones_df['Activity'].str.replace(r\".*collid.*\", 'Shipaccident (Shipwreck)', regex=True)\n",
    "tiburones_df['Activity'] = tiburones_df['Activity'].str.replace(r\".*cruising.*\", 'Shipaccident (Shipwreck)', regex=True)\n",
    "tiburones_df['Activity'] = tiburones_df['Activity'].str.replace(r\".*sea.*\", 'Shipaccident (Shipwreck)', regex=True)\n",
    "tiburones_df['Activity'] = tiburones_df['Activity'].str.replace(r\".*can.*\", 'Shipaccident (Shipwreck)', regex=True)\n",
    "tiburones_df['Activity'] = tiburones_df['Activity'].str.replace(r\".*raft.*\", 'Shipaccident (Shipwreck)', regex=True)\n",
    "tiburones_df['Activity'] = tiburones_df['Activity'].str.replace(r\".*founder.*\", 'Shipaccident (Shipwreck)', regex=True)\n",
    "tiburones_df['Activity'] = tiburones_df['Activity'].str.replace(r\".*sculling.*\", 'Shipaccident (Shipwreck)', regex=True)\n",
    "tiburones_df['Activity'] = tiburones_df['Activity'].str.replace(r\".*air.*\", 'Shipaccident (Shipwreck)', regex=True)\n",
    "tiburones_df['Activity'] = tiburones_df['Activity'].str.replace(r\".*pu.*\", 'Shipaccident (Shipwreck)', regex=True)\n",
    "tiburones_df['Activity'] = tiburones_df['Activity'].str.replace(r\".*sitting.*\", 'Beach activity', regex=True)\n",
    "tiburones_df['Activity'] = tiburones_df['Activity'].str.replace(r\".*wading.*\", 'Beach activity', regex=True)\n",
    "tiburones_df['Activity'] = tiburones_df['Activity'].str.replace(r\".*stand.*\", 'Beach activity', regex=True)\n",
    "tiburones_df['Activity'] = tiburones_df['Activity'].str.replace(r\".*float.*\", 'Beach activity', regex=True)\n",
    "tiburones_df['Activity'] = tiburones_df['Activity'].str.replace(r\".*bath.*\", 'Beach activity', regex=True)\n",
    "tiburones_df['Activity'] = tiburones_df['Activity'].str.replace(r\".*walk.*\", 'Beach activity', regex=True)\n",
    "tiburones_df['Activity'] = tiburones_df['Activity'].str.replace(r\".*play.*\", 'Beach activity', regex=True)\n",
    "tiburones_df['Activity'] = tiburones_df['Activity'].str.replace(r\".*wash.*\", 'Beach activity', regex=True)\n",
    "tiburones_df['Activity'] = tiburones_df['Activity'].str.replace(r\".*dinghy.*\", 'Beach activity', regex=True)\n",
    "tiburones_df['Activity'] = tiburones_df['Activity'].str.replace(r\".*jum.*\", 'Beach activity', regex=True)\n",
    "tiburones_df['Activity'] = tiburones_df['Activity'].str.replace(r\".*water.*\", 'Beach activity', regex=True)\n",
    "tiburones_df['Activity'] = tiburones_df['Activity'].str.replace(r\".*resc.*\", 'Beach activity', regex=True)\n",
    "tiburones_df['Activity'] = tiburones_df['Activity'].str.replace(r\".*spl.*\", 'Beach activity', regex=True)\n",
    "tiburones_df['Activity'] = tiburones_df['Activity'].str.replace(r\".*wav.*\", 'Beach activity', regex=True)\n",
    "tiburones_df['Activity'] = tiburones_df['Activity'].str.replace(r\".*see.*\", 'Beach activity', regex=True)\n",
    "tiburones_df['Activity'] = tiburones_df['Activity'].str.replace(r\".*beach.*\", 'Beach activity', regex=True)\n",
    "tiburones_df['Activity'] = tiburones_df['Activity'].str.replace(r\".*walk.*\", 'Beach activity', regex=True)\n",
    "tiburones_df['Activity'] = tiburones_df['Activity'].str.replace(r\".*murder.*\", 'Corpse', regex=True)\n",
    "tiburones_df['Activity'] = tiburones_df['Activity'].str.replace(r\".*suicide.*\", 'Corpse', regex=True)\n",
    "tiburones_df['Activity'] = tiburones_df['Activity'].str.replace(r\".*victim.*\", 'Corpse', regex=True)\n",
    "tiburones_df['Activity'] = tiburones_df['Activity'].str.replace(r\".*shall.*\", 'Beach activity', regex=True)\n",
    "tiburones_df['Activity'] = tiburones_df['Activity'].str.replace(r\".*fil.*\", 'Film/Photography', regex=True)\n",
    "tiburones_df['Activity'] = tiburones_df['Activity'].str.replace(r\".*pho.*\", 'Film/Photography', regex=True)\n",
    "tiburones_df['Activity'] = tiburones_df['Activity'].str.replace(r\".*ski.*\", 'water sports', regex=True)\n",
    "tiburones_df['Activity'] = tiburones_df['Activity'].str.replace(r\".*racing.*\", 'water sports', regex=True)\n",
    "tiburones_df['Activity'] = tiburones_df['Activity'].str.replace(r\".*sail.*\", 'water sports', regex=True)\n",
    "tiburones_df['Activity'] = tiburones_df['Activity'].str.replace(r\".*kite.*\", 'water sports', regex=True)\n",
    "tiburones_df['Activity'] = tiburones_df['Activity'].str.replace(r\".*fish.*\", 'fishing', regex=True)\n",
    "tiburones_df['Activity'] = tiburones_df['Activity'].str.replace(r\".*shrimp.*\", 'fishing', regex=True)\n",
    "tiburones_df['Activity'] = tiburones_df['Activity'].str.replace(r\".*scooping.*\", 'fishing', regex=True)\n",
    "tiburones_df['Activity'] = tiburones_df['Activity'].str.replace(r\".*crabbing.*\", 'fishing', regex=True)\n",
    "tiburones_df['Activity'] = tiburones_df['Activity'].str.replace(r\".*we.*\", 'Shipaccident (Shipwreck)', regex=True)\n",
    "tiburones_df['Activity'] = tiburones_df['Activity'].str.replace(r\".*nk.*\", 'Shipaccident (Shipwreck)', regex=True)\n",
    "tiburones_df['Activity'] = tiburones_df['Activity'].str.replace(r\".*burn.*\", 'Shipaccident (Shipwreck)', regex=True)\n",
    "tiburones_df['Activity'] = tiburones_df['Activity'].str.replace(r\".*guard.*\", 'Beach activity', regex=True)\n",
    "tiburones_df['Activity'] = tiburones_df['Activity'].str.replace(r\".*stiburones_df.*\", 'Beach activity', regex=True)\n"
   ]
  },
  {
   "cell_type": "code",
   "execution_count": 186,
   "id": "73ca9c8a-4db7-489b-92b3-818fda37a70b",
   "metadata": {},
   "outputs": [],
   "source": [
    "tiburones_df = tiburones_df.drop(tiburones_df[tiburones_df['Activity'] == 'nan'].index)"
   ]
  },
  {
   "cell_type": "code",
   "execution_count": 187,
   "id": "7b74daaa-db59-4c65-b3ce-6060d09cf499",
   "metadata": {},
   "outputs": [
    {
     "data": {
      "text/plain": [
       "Activity\n",
       "swimming                           1742\n",
       "surfing                            1400\n",
       "fishing                             946\n",
       "Beach activity                      609\n",
       "Shipaccident (Shipwreck)            259\n",
       "direct interaction with a shark      74\n",
       "Corpse                                6\n",
       "water sports                          4\n",
       "Film/Photography                      3\n",
       "sup                                   3\n",
       "deserting the bark nazarene           1\n",
       "nsb meshing                           1\n",
       "reaching for life preserver           1\n",
       "Beach activity a horse                1\n",
       "hilo                                  1\n",
       "loss of the schooner nomad            1\n",
       "dry shelling                          1\n",
       "batin                                 1\n",
       "pêcheur de bichiques                  1\n",
       "                                      1\n",
       "stamding                              1\n",
       "crawling                              1\n",
       "picking opihi                         1\n",
       "scalloping                            1\n",
       "on a round-the-world expedition       1\n",
       "hooking into a whale                  1\n",
       "Name: count, dtype: int64"
      ]
     },
     "execution_count": 187,
     "metadata": {},
     "output_type": "execute_result"
    }
   ],
   "source": [
    "tiburones_df['Activity'].value_counts()"
   ]
  },
  {
   "cell_type": "markdown",
   "id": "278a0e63-903f-4f2d-b725-f5d7979c3949",
   "metadata": {},
   "source": [
    "### Limpiar paises "
   ]
  },
  {
   "cell_type": "code",
   "execution_count": 188,
   "id": "7de834a2-138b-4d27-9bed-331efd043255",
   "metadata": {},
   "outputs": [],
   "source": [
    "tiburones_df[\"Country\"]= tiburones_df[\"Country\"].str.upper()"
   ]
  },
  {
   "cell_type": "markdown",
   "id": "f48f3d7e-1a91-4e74-bb82-509f75bb01de",
   "metadata": {},
   "source": [
    "### Limpiando na en todo el dataset"
   ]
  },
  {
   "cell_type": "code",
   "execution_count": 189,
   "id": "48f9123b-6ec3-48f0-8559-f03c4a389138",
   "metadata": {},
   "outputs": [],
   "source": [
    "tiburones_df.dropna(how='all', inplace=True)"
   ]
  },
  {
   "cell_type": "markdown",
   "id": "efef5133-d60d-4913-bf24-fc9f47458754",
   "metadata": {},
   "source": [
    "### Limpiando Year"
   ]
  },
  {
   "cell_type": "code",
   "execution_count": 190,
   "id": "b28d2c7f-8d4d-42b5-a1fe-6fa3feb35abb",
   "metadata": {},
   "outputs": [],
   "source": [
    "mapping = {\n",
    "'-202' : 'no',\n",
    "'-144' : 'no',\n",
    "'3' : 'no',\n",
    "'4' : 'no',\n",
    "'11' : 'no',\n",
    "'890' : 'no',\n",
    "'903' : 'no',\n",
    "'962' : 'no',\n",
    "'963' : 'no',\n",
    "'998' : 'no',\n",
    "'999' : 'no',\n",
    "'.C..' : 'no',\n",
    "'006.' : 'no',\n",
    "'007.' : 'no',\n",
    "'009?' : 'no',\n",
    "'018.' : 'no',\n",
    "'021`' : 'no',\n",
    "'07.a' : 'no',\n",
    "'1.24' : 'no',\n",
    "'1.30' : 'no',\n",
    "'16.R' : 'no',\n",
    "'4.00' : 'no',\n",
    "'6.05' : 'no',\n",
    "'700s' : 'no',\n",
    "'75.b' : 'no',\n",
    "'80s' : 'no',\n",
    "'820s' : 'no',\n",
    "'844)' : 'no',\n",
    "'870s' : 'no',\n",
    "'920s' : 'no',\n",
    "'930s' : 'no',\n",
    "'950s' : 'no',\n",
    "'960s' : 'no',\n",
    "'970s' : 'no',\n",
    "'978`' : 'no',\n",
    "'A.D.' : 'no',\n",
    "'B.C.' : 'no',\n",
    "'date' : 'no',\n",
    "'Kong' : 'no',\n",
    "'mith' : 'no',\n",
    "'r' : 'no',\n",
    "'rted' : 'no',\n",
    "'t937' : 'no',\n",
    "'war\"' : 'no',\n",
    "'War)' : 'no',\n",
    "'003' : 'no',\n",
    "'999 ' : 'no',\n",
    "'998 ' : 'no',\n",
    "'963 ' : 'no',\n",
    "'962 ' : 'no',\n",
    "' (?) ' : 'no',\n",
    "'011 ' : 'no',\n",
    "'004 ' : 'no',\n",
    "'80s ' : 'no',\n",
    "'903 ' : 'no',\n",
    "'r II' : 'no',\n",
    "\n",
    "}\n",
    "tiburones_df[\"Year\"] = tiburones_df[\"Year\"].replace(mapping)"
   ]
  },
  {
   "cell_type": "code",
   "execution_count": 191,
   "id": "066c92cc-eb84-4abd-abda-b18a214c48a0",
   "metadata": {},
   "outputs": [],
   "source": [
    "tiburones_df = tiburones_df.drop(tiburones_df[tiburones_df['Year'] == 'no'].index)"
   ]
  },
  {
   "cell_type": "markdown",
   "id": "f8fae26d-6b36-4d66-b732-761885ba2104",
   "metadata": {},
   "source": [
    "### Filtrando años del siglo 21"
   ]
  },
  {
   "cell_type": "code",
   "execution_count": 192,
   "id": "89a7ef8e-b305-4554-a74e-d67b726ef856",
   "metadata": {},
   "outputs": [
    {
     "data": {
      "text/html": [
       "<div>\n",
       "<style scoped>\n",
       "    .dataframe tbody tr th:only-of-type {\n",
       "        vertical-align: middle;\n",
       "    }\n",
       "\n",
       "    .dataframe tbody tr th {\n",
       "        vertical-align: top;\n",
       "    }\n",
       "\n",
       "    .dataframe thead th {\n",
       "        text-align: right;\n",
       "    }\n",
       "</style>\n",
       "<table border=\"1\" class=\"dataframe\">\n",
       "  <thead>\n",
       "    <tr style=\"text-align: right;\">\n",
       "      <th></th>\n",
       "      <th>Type</th>\n",
       "      <th>Country</th>\n",
       "      <th>State</th>\n",
       "      <th>Location</th>\n",
       "      <th>Activity</th>\n",
       "      <th>Name</th>\n",
       "      <th>Sex</th>\n",
       "      <th>Age</th>\n",
       "      <th>Injury</th>\n",
       "      <th>Time</th>\n",
       "      <th>Species</th>\n",
       "      <th>Year</th>\n",
       "    </tr>\n",
       "  </thead>\n",
       "  <tbody>\n",
       "    <tr>\n",
       "      <th>0</th>\n",
       "      <td>Unprovoked</td>\n",
       "      <td>AUSTRALIA</td>\n",
       "      <td>QUEENSLAND</td>\n",
       "      <td>Bargara Beach</td>\n",
       "      <td>swimming</td>\n",
       "      <td>Brooklyn Sauer</td>\n",
       "      <td>Female</td>\n",
       "      <td>13</td>\n",
       "      <td>Minor injuries to back, abdomen and legs</td>\n",
       "      <td>16h00</td>\n",
       "      <td>Tiger Shark</td>\n",
       "      <td>2024</td>\n",
       "    </tr>\n",
       "    <tr>\n",
       "      <th>1</th>\n",
       "      <td>Unprovoked</td>\n",
       "      <td>USA</td>\n",
       "      <td>HAWAII</td>\n",
       "      <td>Old Man's, Waikiki</td>\n",
       "      <td>surfing</td>\n",
       "      <td>Matthew White</td>\n",
       "      <td>Male</td>\n",
       "      <td>NaN</td>\n",
       "      <td>No injury, shark bit surfboard</td>\n",
       "      <td>NaN</td>\n",
       "      <td>Tiger Shark</td>\n",
       "      <td>2024</td>\n",
       "    </tr>\n",
       "    <tr>\n",
       "      <th>4</th>\n",
       "      <td>Unprovoked</td>\n",
       "      <td>INDIA</td>\n",
       "      <td>MAHARASHTRA</td>\n",
       "      <td>Vaitarna River, Palghar District</td>\n",
       "      <td>fishing</td>\n",
       "      <td>Vicky Suresh Govari</td>\n",
       "      <td>Male</td>\n",
       "      <td>32</td>\n",
       "      <td>Calf of lower left leg injured</td>\n",
       "      <td>NaN</td>\n",
       "      <td>Bull Shark</td>\n",
       "      <td>2024</td>\n",
       "    </tr>\n",
       "  </tbody>\n",
       "</table>\n",
       "</div>"
      ],
      "text/plain": [
       "         Type    Country        State                          Location  \\\n",
       "0  Unprovoked  AUSTRALIA   QUEENSLAND                     Bargara Beach   \n",
       "1  Unprovoked        USA       HAWAII                Old Man's, Waikiki   \n",
       "4  Unprovoked      INDIA  MAHARASHTRA  Vaitarna River, Palghar District   \n",
       "\n",
       "   Activity                 Name     Sex  Age  \\\n",
       "0  swimming       Brooklyn Sauer  Female   13   \n",
       "1   surfing        Matthew White    Male  NaN   \n",
       "4   fishing  Vicky Suresh Govari    Male   32   \n",
       "\n",
       "                                     Injury   Time      Species  Year  \n",
       "0  Minor injuries to back, abdomen and legs  16h00  Tiger Shark  2024  \n",
       "1            No injury, shark bit surfboard    NaN  Tiger Shark  2024  \n",
       "4            Calf of lower left leg injured    NaN   Bull Shark  2024  "
      ]
     },
     "execution_count": 192,
     "metadata": {},
     "output_type": "execute_result"
    }
   ],
   "source": [
    "condition_year = tiburones_df['Year'] > \"1999\"\n",
    "filtered_df = tiburones_df[condition_year]\n",
    "filtered_df.head(3)"
   ]
  },
  {
   "cell_type": "markdown",
   "id": "3af7757d-3f92-4acc-bf76-888e0f1c3e30",
   "metadata": {},
   "source": [
    "#### Filtrando Species"
   ]
  },
  {
   "cell_type": "code",
   "execution_count": 193,
   "id": "734c8d07-0bd8-4c68-876d-a0e0d5389d38",
   "metadata": {},
   "outputs": [
    {
     "data": {
      "text/html": [
       "<div>\n",
       "<style scoped>\n",
       "    .dataframe tbody tr th:only-of-type {\n",
       "        vertical-align: middle;\n",
       "    }\n",
       "\n",
       "    .dataframe tbody tr th {\n",
       "        vertical-align: top;\n",
       "    }\n",
       "\n",
       "    .dataframe thead th {\n",
       "        text-align: right;\n",
       "    }\n",
       "</style>\n",
       "<table border=\"1\" class=\"dataframe\">\n",
       "  <thead>\n",
       "    <tr style=\"text-align: right;\">\n",
       "      <th></th>\n",
       "      <th>Type</th>\n",
       "      <th>Country</th>\n",
       "      <th>State</th>\n",
       "      <th>Location</th>\n",
       "      <th>Activity</th>\n",
       "      <th>Name</th>\n",
       "      <th>Sex</th>\n",
       "      <th>Age</th>\n",
       "      <th>Injury</th>\n",
       "      <th>Time</th>\n",
       "      <th>Species</th>\n",
       "      <th>Year</th>\n",
       "    </tr>\n",
       "  </thead>\n",
       "  <tbody>\n",
       "    <tr>\n",
       "      <th>0</th>\n",
       "      <td>Unprovoked</td>\n",
       "      <td>AUSTRALIA</td>\n",
       "      <td>QUEENSLAND</td>\n",
       "      <td>Bargara Beach</td>\n",
       "      <td>swimming</td>\n",
       "      <td>Brooklyn Sauer</td>\n",
       "      <td>Female</td>\n",
       "      <td>13</td>\n",
       "      <td>Minor injuries to back, abdomen and legs</td>\n",
       "      <td>16h00</td>\n",
       "      <td>Tiger Shark</td>\n",
       "      <td>2024</td>\n",
       "    </tr>\n",
       "    <tr>\n",
       "      <th>1</th>\n",
       "      <td>Unprovoked</td>\n",
       "      <td>USA</td>\n",
       "      <td>HAWAII</td>\n",
       "      <td>Old Man's, Waikiki</td>\n",
       "      <td>surfing</td>\n",
       "      <td>Matthew White</td>\n",
       "      <td>Male</td>\n",
       "      <td>NaN</td>\n",
       "      <td>No injury, shark bit surfboard</td>\n",
       "      <td>NaN</td>\n",
       "      <td>Tiger Shark</td>\n",
       "      <td>2024</td>\n",
       "    </tr>\n",
       "    <tr>\n",
       "      <th>4</th>\n",
       "      <td>Unprovoked</td>\n",
       "      <td>INDIA</td>\n",
       "      <td>MAHARASHTRA</td>\n",
       "      <td>Vaitarna River, Palghar District</td>\n",
       "      <td>fishing</td>\n",
       "      <td>Vicky Suresh Govari</td>\n",
       "      <td>Male</td>\n",
       "      <td>32</td>\n",
       "      <td>Calf of lower left leg injured</td>\n",
       "      <td>NaN</td>\n",
       "      <td>Bull Shark</td>\n",
       "      <td>2024</td>\n",
       "    </tr>\n",
       "  </tbody>\n",
       "</table>\n",
       "</div>"
      ],
      "text/plain": [
       "         Type    Country        State                          Location  \\\n",
       "0  Unprovoked  AUSTRALIA   QUEENSLAND                     Bargara Beach   \n",
       "1  Unprovoked        USA       HAWAII                Old Man's, Waikiki   \n",
       "4  Unprovoked      INDIA  MAHARASHTRA  Vaitarna River, Palghar District   \n",
       "\n",
       "   Activity                 Name     Sex  Age  \\\n",
       "0  swimming       Brooklyn Sauer  Female   13   \n",
       "1   surfing        Matthew White    Male  NaN   \n",
       "4   fishing  Vicky Suresh Govari    Male   32   \n",
       "\n",
       "                                     Injury   Time      Species  Year  \n",
       "0  Minor injuries to back, abdomen and legs  16h00  Tiger Shark  2024  \n",
       "1            No injury, shark bit surfboard    NaN  Tiger Shark  2024  \n",
       "4            Calf of lower left leg injured    NaN   Bull Shark  2024  "
      ]
     },
     "execution_count": 193,
     "metadata": {},
     "output_type": "execute_result"
    }
   ],
   "source": [
    "list_species = ['White Shark','Tiger Shark','Bull Shark','Blacktip Shark','Nurse Shark','Bronze Shark','Blue Shark','Mako Shark','Hammerhead Shark','Lemon Shark','Raggedtooth Shark','Wobbegong shark']\n",
    "filtered_df2 = filtered_df.loc[filtered_df['Species'].isin(list_species)]\n",
    "filtered_df2.head(3)"
   ]
  },
  {
   "cell_type": "markdown",
   "id": "18aec7cb-d2b4-4349-8f91-286ed9b4e730",
   "metadata": {},
   "source": [
    "### Nos quedamos los que queremos estudiar"
   ]
  },
  {
   "cell_type": "code",
   "execution_count": 194,
   "id": "b5ba4216-e956-4b0a-be3e-c07158fadea6",
   "metadata": {},
   "outputs": [],
   "source": [
    "condition = ['USA', 'AUSTRALIA', 'SOUTH AFRICA', 'NEW ZEALAND']\n",
    "top_tiburones = filtered_df2.loc[filtered_df2['Country'].isin(condition)]"
   ]
  },
  {
   "cell_type": "markdown",
   "id": "0a11f070-e7d2-42e3-89a1-ec53eb321523",
   "metadata": {},
   "source": [
    "#### Y ahora observamos los resultados para comenzar con el estudio "
   ]
  },
  {
   "cell_type": "code",
   "execution_count": 195,
   "id": "91503d1e-923b-484b-af88-9d6a8a00e339",
   "metadata": {
    "scrolled": true
   },
   "outputs": [
    {
     "data": {
      "text/html": [
       "<div>\n",
       "<style scoped>\n",
       "    .dataframe tbody tr th:only-of-type {\n",
       "        vertical-align: middle;\n",
       "    }\n",
       "\n",
       "    .dataframe tbody tr th {\n",
       "        vertical-align: top;\n",
       "    }\n",
       "\n",
       "    .dataframe thead th {\n",
       "        text-align: right;\n",
       "    }\n",
       "</style>\n",
       "<table border=\"1\" class=\"dataframe\">\n",
       "  <thead>\n",
       "    <tr style=\"text-align: right;\">\n",
       "      <th></th>\n",
       "      <th>Type</th>\n",
       "      <th>Country</th>\n",
       "      <th>State</th>\n",
       "      <th>Location</th>\n",
       "      <th>Activity</th>\n",
       "      <th>Name</th>\n",
       "      <th>Sex</th>\n",
       "      <th>Age</th>\n",
       "      <th>Injury</th>\n",
       "      <th>Time</th>\n",
       "      <th>Species</th>\n",
       "      <th>Year</th>\n",
       "    </tr>\n",
       "  </thead>\n",
       "  <tbody>\n",
       "    <tr>\n",
       "      <th>0</th>\n",
       "      <td>Unprovoked</td>\n",
       "      <td>AUSTRALIA</td>\n",
       "      <td>QUEENSLAND</td>\n",
       "      <td>Bargara Beach</td>\n",
       "      <td>swimming</td>\n",
       "      <td>Brooklyn Sauer</td>\n",
       "      <td>Female</td>\n",
       "      <td>13</td>\n",
       "      <td>Minor injuries to back, abdomen and legs</td>\n",
       "      <td>16h00</td>\n",
       "      <td>Tiger Shark</td>\n",
       "      <td>2024</td>\n",
       "    </tr>\n",
       "    <tr>\n",
       "      <th>1</th>\n",
       "      <td>Unprovoked</td>\n",
       "      <td>USA</td>\n",
       "      <td>HAWAII</td>\n",
       "      <td>Old Man's, Waikiki</td>\n",
       "      <td>surfing</td>\n",
       "      <td>Matthew White</td>\n",
       "      <td>Male</td>\n",
       "      <td>NaN</td>\n",
       "      <td>No injury, shark bit surfboard</td>\n",
       "      <td>NaN</td>\n",
       "      <td>Tiger Shark</td>\n",
       "      <td>2024</td>\n",
       "    </tr>\n",
       "    <tr>\n",
       "      <th>6</th>\n",
       "      <td>Unprovoked</td>\n",
       "      <td>AUSTRALIA</td>\n",
       "      <td>NEWSOUTHWALES</td>\n",
       "      <td>Elizabeth Bay, Sydney Harbor</td>\n",
       "      <td>swimming</td>\n",
       "      <td>Lauren O'Neill</td>\n",
       "      <td>Female</td>\n",
       "      <td>29</td>\n",
       "      <td>Right leg bitten</td>\n",
       "      <td>20h00</td>\n",
       "      <td>Bull Shark</td>\n",
       "      <td>2024</td>\n",
       "    </tr>\n",
       "  </tbody>\n",
       "</table>\n",
       "</div>"
      ],
      "text/plain": [
       "         Type    Country          State                      Location  \\\n",
       "0  Unprovoked  AUSTRALIA     QUEENSLAND                 Bargara Beach   \n",
       "1  Unprovoked        USA         HAWAII            Old Man's, Waikiki   \n",
       "6  Unprovoked  AUSTRALIA  NEWSOUTHWALES  Elizabeth Bay, Sydney Harbor   \n",
       "\n",
       "   Activity            Name     Sex  Age  \\\n",
       "0  swimming  Brooklyn Sauer  Female   13   \n",
       "1   surfing   Matthew White    Male  NaN   \n",
       "6  swimming  Lauren O'Neill  Female   29   \n",
       "\n",
       "                                     Injury   Time      Species  Year  \n",
       "0  Minor injuries to back, abdomen and legs  16h00  Tiger Shark  2024  \n",
       "1            No injury, shark bit surfboard    NaN  Tiger Shark  2024  \n",
       "6                          Right leg bitten  20h00   Bull Shark  2024  "
      ]
     },
     "execution_count": 195,
     "metadata": {},
     "output_type": "execute_result"
    }
   ],
   "source": [
    "top_tiburones.head(3)"
   ]
  },
  {
   "cell_type": "code",
   "execution_count": 196,
   "id": "7bd55713-9f7d-4c37-8f20-2489f33a87b9",
   "metadata": {},
   "outputs": [
    {
     "data": {
      "text/html": [
       "<div>\n",
       "<style scoped>\n",
       "    .dataframe tbody tr th:only-of-type {\n",
       "        vertical-align: middle;\n",
       "    }\n",
       "\n",
       "    .dataframe tbody tr th {\n",
       "        vertical-align: top;\n",
       "    }\n",
       "\n",
       "    .dataframe thead th {\n",
       "        text-align: right;\n",
       "    }\n",
       "</style>\n",
       "<table border=\"1\" class=\"dataframe\">\n",
       "  <thead>\n",
       "    <tr style=\"text-align: right;\">\n",
       "      <th></th>\n",
       "      <th>Type</th>\n",
       "      <th>Country</th>\n",
       "      <th>State</th>\n",
       "      <th>Location</th>\n",
       "      <th>Activity</th>\n",
       "      <th>Name</th>\n",
       "      <th>Sex</th>\n",
       "      <th>Age</th>\n",
       "      <th>Injury</th>\n",
       "      <th>Time</th>\n",
       "      <th>Species</th>\n",
       "      <th>Year</th>\n",
       "    </tr>\n",
       "  </thead>\n",
       "  <tbody>\n",
       "    <tr>\n",
       "      <th>count</th>\n",
       "      <td>686</td>\n",
       "      <td>686</td>\n",
       "      <td>686</td>\n",
       "      <td>677</td>\n",
       "      <td>686</td>\n",
       "      <td>685</td>\n",
       "      <td>686</td>\n",
       "      <td>548</td>\n",
       "      <td>686</td>\n",
       "      <td>555</td>\n",
       "      <td>686</td>\n",
       "      <td>686</td>\n",
       "    </tr>\n",
       "    <tr>\n",
       "      <th>unique</th>\n",
       "      <td>5</td>\n",
       "      <td>4</td>\n",
       "      <td>48</td>\n",
       "      <td>599</td>\n",
       "      <td>10</td>\n",
       "      <td>640</td>\n",
       "      <td>2</td>\n",
       "      <td>137</td>\n",
       "      <td>512</td>\n",
       "      <td>155</td>\n",
       "      <td>12</td>\n",
       "      <td>25</td>\n",
       "    </tr>\n",
       "    <tr>\n",
       "      <th>top</th>\n",
       "      <td>Unprovoked</td>\n",
       "      <td>USA</td>\n",
       "      <td>FLORIDA</td>\n",
       "      <td>New Smyrna Beach, Volusia County</td>\n",
       "      <td>surfing</td>\n",
       "      <td>male</td>\n",
       "      <td>Male</td>\n",
       "      <td>15</td>\n",
       "      <td>FATAL</td>\n",
       "      <td>Afternoon</td>\n",
       "      <td>White Shark</td>\n",
       "      <td>2015</td>\n",
       "    </tr>\n",
       "    <tr>\n",
       "      <th>freq</th>\n",
       "      <td>559</td>\n",
       "      <td>367</td>\n",
       "      <td>119</td>\n",
       "      <td>21</td>\n",
       "      <td>294</td>\n",
       "      <td>37</td>\n",
       "      <td>582</td>\n",
       "      <td>13</td>\n",
       "      <td>62</td>\n",
       "      <td>27</td>\n",
       "      <td>259</td>\n",
       "      <td>49</td>\n",
       "    </tr>\n",
       "  </tbody>\n",
       "</table>\n",
       "</div>"
      ],
      "text/plain": [
       "              Type Country    State                          Location  \\\n",
       "count          686     686      686                               677   \n",
       "unique           5       4       48                               599   \n",
       "top     Unprovoked     USA  FLORIDA  New Smyrna Beach, Volusia County   \n",
       "freq           559     367      119                                21   \n",
       "\n",
       "       Activity  Name   Sex  Age Injury       Time      Species  Year  \n",
       "count       686   685   686  548    686        555          686   686  \n",
       "unique       10   640     2  137    512        155           12    25  \n",
       "top     surfing  male  Male   15  FATAL  Afternoon  White Shark  2015  \n",
       "freq        294    37   582   13     62         27          259    49  "
      ]
     },
     "execution_count": 196,
     "metadata": {},
     "output_type": "execute_result"
    }
   ],
   "source": [
    "top_tiburones.describe()"
   ]
  },
  {
   "cell_type": "markdown",
   "id": "727032c6-203d-4dc1-a809-3cd5a13a7939",
   "metadata": {},
   "source": [
    "#### Ranking Paises"
   ]
  },
  {
   "cell_type": "code",
   "execution_count": 197,
   "id": "ed70bd26-b877-44c8-a6b9-08d033476ec6",
   "metadata": {},
   "outputs": [
    {
     "data": {
      "text/plain": [
       "Country     \n",
       "USA             367\n",
       "AUSTRALIA       217\n",
       "SOUTH AFRICA     81\n",
       "NEW ZEALAND      21\n",
       "Name: count, dtype: int64"
      ]
     },
     "execution_count": 197,
     "metadata": {},
     "output_type": "execute_result"
    }
   ],
   "source": [
    "top_tiburones[[\"Country\"]].value_counts()"
   ]
  },
  {
   "cell_type": "markdown",
   "id": "b4856381-429e-4102-b0c1-b69ee5f7f6cf",
   "metadata": {},
   "source": [
    "#### Ranking de Actividades"
   ]
  },
  {
   "cell_type": "code",
   "execution_count": 198,
   "id": "550715ad-f4c7-4f1b-8e64-520b48b9f63a",
   "metadata": {},
   "outputs": [
    {
     "data": {
      "text/plain": [
       "Activity\n",
       "surfing                            294\n",
       "swimming                           170\n",
       "fishing                            142\n",
       "Beach activity                      57\n",
       "direct interaction with a shark     14\n",
       "Shipaccident (Shipwreck)             4\n",
       "sup                                  2\n",
       "Film/Photography                     1\n",
       "water sports                         1\n",
       "picking opihi                        1\n",
       "Name: count, dtype: int64"
      ]
     },
     "execution_count": 198,
     "metadata": {},
     "output_type": "execute_result"
    }
   ],
   "source": [
    "top_tiburones[\"Activity\"].value_counts()"
   ]
  },
  {
   "cell_type": "markdown",
   "id": "e5b20657-98d9-4503-9b67-d172510d017f",
   "metadata": {},
   "source": [
    "#### Ranking de Especies"
   ]
  },
  {
   "cell_type": "code",
   "execution_count": 199,
   "id": "220c0c75-ac1d-4aa0-846e-f141e1f8d3c1",
   "metadata": {},
   "outputs": [
    {
     "data": {
      "text/plain": [
       "Species          \n",
       "White Shark          259\n",
       "Tiger Shark          110\n",
       "Bull Shark           103\n",
       "Blacktip Shark        77\n",
       "Bronze Shark          37\n",
       "Nurse Shark           31\n",
       "Raggedtooth Shark     16\n",
       "Lemon Shark           13\n",
       "Wobbegong shark       13\n",
       "Mako Shark            12\n",
       "Hammerhead Shark       9\n",
       "Blue Shark             6\n",
       "Name: count, dtype: int64"
      ]
     },
     "execution_count": 199,
     "metadata": {},
     "output_type": "execute_result"
    }
   ],
   "source": [
    "top_tiburones[[\"Species\"]].value_counts().head(12)"
   ]
  },
  {
   "cell_type": "markdown",
   "id": "32092e9f-29d8-4f2e-a409-166e8ba20c44",
   "metadata": {},
   "source": [
    "#### Pais y Año"
   ]
  },
  {
   "cell_type": "code",
   "execution_count": 221,
   "id": "907c0df8-da86-4391-a11d-136aadaed752",
   "metadata": {},
   "outputs": [],
   "source": [
    "# Gian\n",
    "# Assuming 'top_tiburones' is your DataFrame containing the shark data\n",
    "# Perform the groupby and count\n",
    "grouped_data = top_tiburones.groupby(['Country', 'Year']).size().reset_index(name='Count')\n",
    "\n",
    "# Export the grouped data to a CSV file\n",
    "grouped_data.to_csv('shark_counts_by_country_year.csv', index=False)"
   ]
  },
  {
   "cell_type": "markdown",
   "id": "754631bb-e07a-4b61-8c5c-67514439d75c",
   "metadata": {},
   "source": [
    "#### Pais Especies"
   ]
  },
  {
   "cell_type": "code",
   "execution_count": 223,
   "id": "4a837b39-4cea-4d6b-bc36-dc17e9b0c308",
   "metadata": {},
   "outputs": [],
   "source": [
    "grouped_data = top_tiburones.groupby(['Country', 'Species']).size().reset_index(name='Count')\n",
    "# Export the grouped data to a CSV file\n",
    "grouped_data.to_csv('shark_counts_by_country_specie.csv', index=False)"
   ]
  },
  {
   "cell_type": "markdown",
   "id": "f34adcb1-fb8c-404f-aa94-0613fa013bc1",
   "metadata": {},
   "source": [
    "#### Pais Actividad"
   ]
  },
  {
   "cell_type": "code",
   "execution_count": 203,
   "id": "40cd2803-3cf4-4905-ba50-aef9483ae20e",
   "metadata": {},
   "outputs": [
    {
     "data": {
      "text/html": [
       "<div>\n",
       "<style scoped>\n",
       "    .dataframe tbody tr th:only-of-type {\n",
       "        vertical-align: middle;\n",
       "    }\n",
       "\n",
       "    .dataframe tbody tr th {\n",
       "        vertical-align: top;\n",
       "    }\n",
       "\n",
       "    .dataframe thead th {\n",
       "        text-align: right;\n",
       "    }\n",
       "</style>\n",
       "<table border=\"1\" class=\"dataframe\">\n",
       "  <thead>\n",
       "    <tr style=\"text-align: right;\">\n",
       "      <th></th>\n",
       "      <th>Country</th>\n",
       "      <th>Activity</th>\n",
       "      <th>Count</th>\n",
       "      <th>Percentage</th>\n",
       "    </tr>\n",
       "  </thead>\n",
       "  <tbody>\n",
       "    <tr>\n",
       "      <th>22</th>\n",
       "      <td>USA</td>\n",
       "      <td>surfing</td>\n",
       "      <td>150</td>\n",
       "      <td>21.865889</td>\n",
       "    </tr>\n",
       "    <tr>\n",
       "      <th>4</th>\n",
       "      <td>AUSTRALIA</td>\n",
       "      <td>surfing</td>\n",
       "      <td>101</td>\n",
       "      <td>14.723032</td>\n",
       "    </tr>\n",
       "    <tr>\n",
       "      <th>23</th>\n",
       "      <td>USA</td>\n",
       "      <td>swimming</td>\n",
       "      <td>83</td>\n",
       "      <td>12.099125</td>\n",
       "    </tr>\n",
       "    <tr>\n",
       "      <th>19</th>\n",
       "      <td>USA</td>\n",
       "      <td>fishing</td>\n",
       "      <td>74</td>\n",
       "      <td>10.787172</td>\n",
       "    </tr>\n",
       "    <tr>\n",
       "      <th>5</th>\n",
       "      <td>AUSTRALIA</td>\n",
       "      <td>swimming</td>\n",
       "      <td>59</td>\n",
       "      <td>8.600583</td>\n",
       "    </tr>\n",
       "    <tr>\n",
       "      <th>15</th>\n",
       "      <td>USA</td>\n",
       "      <td>Beach activity</td>\n",
       "      <td>44</td>\n",
       "      <td>6.413994</td>\n",
       "    </tr>\n",
       "    <tr>\n",
       "      <th>3</th>\n",
       "      <td>AUSTRALIA</td>\n",
       "      <td>fishing</td>\n",
       "      <td>42</td>\n",
       "      <td>6.122449</td>\n",
       "    </tr>\n",
       "    <tr>\n",
       "      <th>13</th>\n",
       "      <td>SOUTH AFRICA</td>\n",
       "      <td>surfing</td>\n",
       "      <td>40</td>\n",
       "      <td>5.830904</td>\n",
       "    </tr>\n",
       "    <tr>\n",
       "      <th>14</th>\n",
       "      <td>SOUTH AFRICA</td>\n",
       "      <td>swimming</td>\n",
       "      <td>22</td>\n",
       "      <td>3.206997</td>\n",
       "    </tr>\n",
       "    <tr>\n",
       "      <th>12</th>\n",
       "      <td>SOUTH AFRICA</td>\n",
       "      <td>fishing</td>\n",
       "      <td>15</td>\n",
       "      <td>2.186589</td>\n",
       "    </tr>\n",
       "    <tr>\n",
       "      <th>7</th>\n",
       "      <td>NEW ZEALAND</td>\n",
       "      <td>fishing</td>\n",
       "      <td>11</td>\n",
       "      <td>1.603499</td>\n",
       "    </tr>\n",
       "    <tr>\n",
       "      <th>18</th>\n",
       "      <td>USA</td>\n",
       "      <td>direct interaction with a shark</td>\n",
       "      <td>10</td>\n",
       "      <td>1.457726</td>\n",
       "    </tr>\n",
       "    <tr>\n",
       "      <th>0</th>\n",
       "      <td>AUSTRALIA</td>\n",
       "      <td>Beach activity</td>\n",
       "      <td>9</td>\n",
       "      <td>1.311953</td>\n",
       "    </tr>\n",
       "    <tr>\n",
       "      <th>9</th>\n",
       "      <td>NEW ZEALAND</td>\n",
       "      <td>swimming</td>\n",
       "      <td>6</td>\n",
       "      <td>0.874636</td>\n",
       "    </tr>\n",
       "    <tr>\n",
       "      <th>2</th>\n",
       "      <td>AUSTRALIA</td>\n",
       "      <td>direct interaction with a shark</td>\n",
       "      <td>4</td>\n",
       "      <td>0.583090</td>\n",
       "    </tr>\n",
       "    <tr>\n",
       "      <th>10</th>\n",
       "      <td>SOUTH AFRICA</td>\n",
       "      <td>Beach activity</td>\n",
       "      <td>3</td>\n",
       "      <td>0.437318</td>\n",
       "    </tr>\n",
       "    <tr>\n",
       "      <th>8</th>\n",
       "      <td>NEW ZEALAND</td>\n",
       "      <td>surfing</td>\n",
       "      <td>3</td>\n",
       "      <td>0.437318</td>\n",
       "    </tr>\n",
       "    <tr>\n",
       "      <th>1</th>\n",
       "      <td>AUSTRALIA</td>\n",
       "      <td>Shipaccident (Shipwreck)</td>\n",
       "      <td>2</td>\n",
       "      <td>0.291545</td>\n",
       "    </tr>\n",
       "    <tr>\n",
       "      <th>21</th>\n",
       "      <td>USA</td>\n",
       "      <td>sup</td>\n",
       "      <td>2</td>\n",
       "      <td>0.291545</td>\n",
       "    </tr>\n",
       "    <tr>\n",
       "      <th>11</th>\n",
       "      <td>SOUTH AFRICA</td>\n",
       "      <td>Shipaccident (Shipwreck)</td>\n",
       "      <td>1</td>\n",
       "      <td>0.145773</td>\n",
       "    </tr>\n",
       "  </tbody>\n",
       "</table>\n",
       "</div>"
      ],
      "text/plain": [
       "         Country                         Activity  Count  Percentage\n",
       "22           USA                          surfing    150   21.865889\n",
       "4      AUSTRALIA                          surfing    101   14.723032\n",
       "23           USA                         swimming     83   12.099125\n",
       "19           USA                          fishing     74   10.787172\n",
       "5      AUSTRALIA                         swimming     59    8.600583\n",
       "15           USA                   Beach activity     44    6.413994\n",
       "3      AUSTRALIA                          fishing     42    6.122449\n",
       "13  SOUTH AFRICA                          surfing     40    5.830904\n",
       "14  SOUTH AFRICA                         swimming     22    3.206997\n",
       "12  SOUTH AFRICA                          fishing     15    2.186589\n",
       "7    NEW ZEALAND                          fishing     11    1.603499\n",
       "18           USA  direct interaction with a shark     10    1.457726\n",
       "0      AUSTRALIA                   Beach activity      9    1.311953\n",
       "9    NEW ZEALAND                         swimming      6    0.874636\n",
       "2      AUSTRALIA  direct interaction with a shark      4    0.583090\n",
       "10  SOUTH AFRICA                   Beach activity      3    0.437318\n",
       "8    NEW ZEALAND                          surfing      3    0.437318\n",
       "1      AUSTRALIA         Shipaccident (Shipwreck)      2    0.291545\n",
       "21           USA                              sup      2    0.291545\n",
       "11  SOUTH AFRICA         Shipaccident (Shipwreck)      1    0.145773"
      ]
     },
     "execution_count": 203,
     "metadata": {},
     "output_type": "execute_result"
    }
   ],
   "source": [
    "country_activity_grouped_percentage = top_tiburones.groupby(['Country', 'Activity']).size().reset_index(name='Count')\n",
    "\n",
    "# Calculate the total count of occurrences\n",
    "total_count = country_activity_grouped_percentage['Count'].sum()\n",
    "\n",
    "# Calculate the percentage for each group\n",
    "country_activity_grouped_percentage['Percentage'] = (country_activity_grouped_percentage['Count'] / total_count) * 100\n",
    "\n",
    "# If you want to sort the result by count in descending order:\n",
    "country_activity_grouped_percentage = country_activity_grouped_percentage.sort_values(by='Count', ascending=False)\n",
    "country_activity_grouped_percentage.head(20)"
   ]
  },
  {
   "cell_type": "markdown",
   "id": "37727318-4088-40a4-a452-3db501921596",
   "metadata": {},
   "source": [
    "#### Actividad Sexo "
   ]
  },
  {
   "cell_type": "code",
   "execution_count": 217,
   "id": "56e93080-8bfd-413c-9fd4-66944a174c6a",
   "metadata": {},
   "outputs": [
    {
     "data": {
      "text/html": [
       "<div>\n",
       "<style scoped>\n",
       "    .dataframe tbody tr th:only-of-type {\n",
       "        vertical-align: middle;\n",
       "    }\n",
       "\n",
       "    .dataframe tbody tr th {\n",
       "        vertical-align: top;\n",
       "    }\n",
       "\n",
       "    .dataframe thead th {\n",
       "        text-align: right;\n",
       "    }\n",
       "</style>\n",
       "<table border=\"1\" class=\"dataframe\">\n",
       "  <thead>\n",
       "    <tr style=\"text-align: right;\">\n",
       "      <th></th>\n",
       "      <th>Activity</th>\n",
       "      <th>Sex</th>\n",
       "      <th>Count</th>\n",
       "      <th>Percentage</th>\n",
       "    </tr>\n",
       "  </thead>\n",
       "  <tbody>\n",
       "    <tr>\n",
       "      <th>12</th>\n",
       "      <td>surfing</td>\n",
       "      <td>Male</td>\n",
       "      <td>265</td>\n",
       "      <td>38.629738</td>\n",
       "    </tr>\n",
       "    <tr>\n",
       "      <th>8</th>\n",
       "      <td>fishing</td>\n",
       "      <td>Male</td>\n",
       "      <td>138</td>\n",
       "      <td>20.116618</td>\n",
       "    </tr>\n",
       "    <tr>\n",
       "      <th>14</th>\n",
       "      <td>swimming</td>\n",
       "      <td>Male</td>\n",
       "      <td>126</td>\n",
       "      <td>18.367347</td>\n",
       "    </tr>\n",
       "    <tr>\n",
       "      <th>13</th>\n",
       "      <td>swimming</td>\n",
       "      <td>Female</td>\n",
       "      <td>44</td>\n",
       "      <td>6.413994</td>\n",
       "    </tr>\n",
       "    <tr>\n",
       "      <th>1</th>\n",
       "      <td>Beach activity</td>\n",
       "      <td>Male</td>\n",
       "      <td>36</td>\n",
       "      <td>5.247813</td>\n",
       "    </tr>\n",
       "    <tr>\n",
       "      <th>11</th>\n",
       "      <td>surfing</td>\n",
       "      <td>Female</td>\n",
       "      <td>29</td>\n",
       "      <td>4.227405</td>\n",
       "    </tr>\n",
       "    <tr>\n",
       "      <th>0</th>\n",
       "      <td>Beach activity</td>\n",
       "      <td>Female</td>\n",
       "      <td>21</td>\n",
       "      <td>3.061224</td>\n",
       "    </tr>\n",
       "    <tr>\n",
       "      <th>6</th>\n",
       "      <td>direct interaction with a shark</td>\n",
       "      <td>Male</td>\n",
       "      <td>9</td>\n",
       "      <td>1.311953</td>\n",
       "    </tr>\n",
       "    <tr>\n",
       "      <th>5</th>\n",
       "      <td>direct interaction with a shark</td>\n",
       "      <td>Female</td>\n",
       "      <td>5</td>\n",
       "      <td>0.728863</td>\n",
       "    </tr>\n",
       "    <tr>\n",
       "      <th>7</th>\n",
       "      <td>fishing</td>\n",
       "      <td>Female</td>\n",
       "      <td>4</td>\n",
       "      <td>0.583090</td>\n",
       "    </tr>\n",
       "    <tr>\n",
       "      <th>4</th>\n",
       "      <td>Shipaccident (Shipwreck)</td>\n",
       "      <td>Male</td>\n",
       "      <td>3</td>\n",
       "      <td>0.437318</td>\n",
       "    </tr>\n",
       "    <tr>\n",
       "      <th>10</th>\n",
       "      <td>sup</td>\n",
       "      <td>Male</td>\n",
       "      <td>2</td>\n",
       "      <td>0.291545</td>\n",
       "    </tr>\n",
       "    <tr>\n",
       "      <th>2</th>\n",
       "      <td>Film/Photography</td>\n",
       "      <td>Male</td>\n",
       "      <td>1</td>\n",
       "      <td>0.145773</td>\n",
       "    </tr>\n",
       "    <tr>\n",
       "      <th>3</th>\n",
       "      <td>Shipaccident (Shipwreck)</td>\n",
       "      <td>Female</td>\n",
       "      <td>1</td>\n",
       "      <td>0.145773</td>\n",
       "    </tr>\n",
       "    <tr>\n",
       "      <th>9</th>\n",
       "      <td>picking opihi</td>\n",
       "      <td>Male</td>\n",
       "      <td>1</td>\n",
       "      <td>0.145773</td>\n",
       "    </tr>\n",
       "    <tr>\n",
       "      <th>15</th>\n",
       "      <td>water sports</td>\n",
       "      <td>Male</td>\n",
       "      <td>1</td>\n",
       "      <td>0.145773</td>\n",
       "    </tr>\n",
       "  </tbody>\n",
       "</table>\n",
       "</div>"
      ],
      "text/plain": [
       "                           Activity     Sex  Count  Percentage\n",
       "12                          surfing    Male    265   38.629738\n",
       "8                           fishing    Male    138   20.116618\n",
       "14                         swimming    Male    126   18.367347\n",
       "13                         swimming  Female     44    6.413994\n",
       "1                    Beach activity    Male     36    5.247813\n",
       "11                          surfing  Female     29    4.227405\n",
       "0                    Beach activity  Female     21    3.061224\n",
       "6   direct interaction with a shark    Male      9    1.311953\n",
       "5   direct interaction with a shark  Female      5    0.728863\n",
       "7                           fishing  Female      4    0.583090\n",
       "4          Shipaccident (Shipwreck)    Male      3    0.437318\n",
       "10                              sup    Male      2    0.291545\n",
       "2                  Film/Photography    Male      1    0.145773\n",
       "3          Shipaccident (Shipwreck)  Female      1    0.145773\n",
       "9                     picking opihi    Male      1    0.145773\n",
       "15                     water sports    Male      1    0.145773"
      ]
     },
     "execution_count": 217,
     "metadata": {},
     "output_type": "execute_result"
    }
   ],
   "source": [
    "sex_activity_grouped_percentage = top_tiburones.groupby(['Activity', 'Sex']).size().reset_index(name='Count')\n",
    "\n",
    "# Calculate the total count of occurrences\n",
    "total_count = sex_activity_grouped_percentage['Count'].sum()\n",
    "\n",
    "# Calculate the percentage for each group\n",
    "sex_activity_grouped_percentage['Percentage'] = (sex_activity_grouped_percentage['Count'] / total_count) * 100\n",
    "\n",
    "# If you want to sort the result by count in descending order:\n",
    "sex_activity_grouped_percentage = sex_activity_grouped_percentage.sort_values(by='Count', ascending=False)\n",
    "sex_activity_grouped_percentage.head(20)"
   ]
  },
  {
   "cell_type": "markdown",
   "id": "c96176a4-c665-49ec-9cc5-ee049403db45",
   "metadata": {},
   "source": [
    "#### Actividad Especies"
   ]
  },
  {
   "cell_type": "code",
   "execution_count": 216,
   "id": "86cfe764-bbc1-45be-bdfc-7ff1f4096306",
   "metadata": {},
   "outputs": [
    {
     "data": {
      "text/html": [
       "<div>\n",
       "<style scoped>\n",
       "    .dataframe tbody tr th:only-of-type {\n",
       "        vertical-align: middle;\n",
       "    }\n",
       "\n",
       "    .dataframe tbody tr th {\n",
       "        vertical-align: top;\n",
       "    }\n",
       "\n",
       "    .dataframe thead th {\n",
       "        text-align: right;\n",
       "    }\n",
       "</style>\n",
       "<table border=\"1\" class=\"dataframe\">\n",
       "  <thead>\n",
       "    <tr style=\"text-align: right;\">\n",
       "      <th></th>\n",
       "      <th>Species</th>\n",
       "      <th>Activity</th>\n",
       "      <th>Count</th>\n",
       "      <th>Percentage</th>\n",
       "    </tr>\n",
       "  </thead>\n",
       "  <tbody>\n",
       "    <tr>\n",
       "      <th>46</th>\n",
       "      <td>White Shark</td>\n",
       "      <td>surfing</td>\n",
       "      <td>143</td>\n",
       "      <td>20.845481</td>\n",
       "    </tr>\n",
       "    <tr>\n",
       "      <th>47</th>\n",
       "      <td>White Shark</td>\n",
       "      <td>swimming</td>\n",
       "      <td>57</td>\n",
       "      <td>8.309038</td>\n",
       "    </tr>\n",
       "    <tr>\n",
       "      <th>40</th>\n",
       "      <td>Tiger Shark</td>\n",
       "      <td>surfing</td>\n",
       "      <td>53</td>\n",
       "      <td>7.725948</td>\n",
       "    </tr>\n",
       "    <tr>\n",
       "      <th>3</th>\n",
       "      <td>Blacktip Shark</td>\n",
       "      <td>surfing</td>\n",
       "      <td>39</td>\n",
       "      <td>5.685131</td>\n",
       "    </tr>\n",
       "    <tr>\n",
       "      <th>44</th>\n",
       "      <td>White Shark</td>\n",
       "      <td>fishing</td>\n",
       "      <td>37</td>\n",
       "      <td>5.393586</td>\n",
       "    </tr>\n",
       "    <tr>\n",
       "      <th>15</th>\n",
       "      <td>Bull Shark</td>\n",
       "      <td>swimming</td>\n",
       "      <td>35</td>\n",
       "      <td>5.102041</td>\n",
       "    </tr>\n",
       "    <tr>\n",
       "      <th>41</th>\n",
       "      <td>Tiger Shark</td>\n",
       "      <td>swimming</td>\n",
       "      <td>32</td>\n",
       "      <td>4.664723</td>\n",
       "    </tr>\n",
       "    <tr>\n",
       "      <th>13</th>\n",
       "      <td>Bull Shark</td>\n",
       "      <td>fishing</td>\n",
       "      <td>25</td>\n",
       "      <td>3.644315</td>\n",
       "    </tr>\n",
       "    <tr>\n",
       "      <th>14</th>\n",
       "      <td>Bull Shark</td>\n",
       "      <td>surfing</td>\n",
       "      <td>22</td>\n",
       "      <td>3.206997</td>\n",
       "    </tr>\n",
       "    <tr>\n",
       "      <th>9</th>\n",
       "      <td>Bronze Shark</td>\n",
       "      <td>surfing</td>\n",
       "      <td>21</td>\n",
       "      <td>3.061224</td>\n",
       "    </tr>\n",
       "    <tr>\n",
       "      <th>43</th>\n",
       "      <td>White Shark</td>\n",
       "      <td>Beach activity</td>\n",
       "      <td>20</td>\n",
       "      <td>2.915452</td>\n",
       "    </tr>\n",
       "    <tr>\n",
       "      <th>11</th>\n",
       "      <td>Bull Shark</td>\n",
       "      <td>Beach activity</td>\n",
       "      <td>17</td>\n",
       "      <td>2.478134</td>\n",
       "    </tr>\n",
       "    <tr>\n",
       "      <th>4</th>\n",
       "      <td>Blacktip Shark</td>\n",
       "      <td>swimming</td>\n",
       "      <td>16</td>\n",
       "      <td>2.332362</td>\n",
       "    </tr>\n",
       "    <tr>\n",
       "      <th>38</th>\n",
       "      <td>Tiger Shark</td>\n",
       "      <td>fishing</td>\n",
       "      <td>14</td>\n",
       "      <td>2.040816</td>\n",
       "    </tr>\n",
       "    <tr>\n",
       "      <th>28</th>\n",
       "      <td>Nurse Shark</td>\n",
       "      <td>fishing</td>\n",
       "      <td>14</td>\n",
       "      <td>2.040816</td>\n",
       "    </tr>\n",
       "    <tr>\n",
       "      <th>8</th>\n",
       "      <td>Bronze Shark</td>\n",
       "      <td>fishing</td>\n",
       "      <td>13</td>\n",
       "      <td>1.895044</td>\n",
       "    </tr>\n",
       "    <tr>\n",
       "      <th>30</th>\n",
       "      <td>Nurse Shark</td>\n",
       "      <td>swimming</td>\n",
       "      <td>11</td>\n",
       "      <td>1.603499</td>\n",
       "    </tr>\n",
       "    <tr>\n",
       "      <th>2</th>\n",
       "      <td>Blacktip Shark</td>\n",
       "      <td>fishing</td>\n",
       "      <td>9</td>\n",
       "      <td>1.311953</td>\n",
       "    </tr>\n",
       "    <tr>\n",
       "      <th>0</th>\n",
       "      <td>Blacktip Shark</td>\n",
       "      <td>Beach activity</td>\n",
       "      <td>9</td>\n",
       "      <td>1.311953</td>\n",
       "    </tr>\n",
       "    <tr>\n",
       "      <th>23</th>\n",
       "      <td>Mako Shark</td>\n",
       "      <td>fishing</td>\n",
       "      <td>8</td>\n",
       "      <td>1.166181</td>\n",
       "    </tr>\n",
       "  </tbody>\n",
       "</table>\n",
       "</div>"
      ],
      "text/plain": [
       "           Species        Activity  Count  Percentage\n",
       "46     White Shark         surfing    143   20.845481\n",
       "47     White Shark        swimming     57    8.309038\n",
       "40     Tiger Shark         surfing     53    7.725948\n",
       "3   Blacktip Shark         surfing     39    5.685131\n",
       "44     White Shark         fishing     37    5.393586\n",
       "15      Bull Shark        swimming     35    5.102041\n",
       "41     Tiger Shark        swimming     32    4.664723\n",
       "13      Bull Shark         fishing     25    3.644315\n",
       "14      Bull Shark         surfing     22    3.206997\n",
       "9     Bronze Shark         surfing     21    3.061224\n",
       "43     White Shark  Beach activity     20    2.915452\n",
       "11      Bull Shark  Beach activity     17    2.478134\n",
       "4   Blacktip Shark        swimming     16    2.332362\n",
       "38     Tiger Shark         fishing     14    2.040816\n",
       "28     Nurse Shark         fishing     14    2.040816\n",
       "8     Bronze Shark         fishing     13    1.895044\n",
       "30     Nurse Shark        swimming     11    1.603499\n",
       "2   Blacktip Shark         fishing      9    1.311953\n",
       "0   Blacktip Shark  Beach activity      9    1.311953\n",
       "23      Mako Shark         fishing      8    1.166181"
      ]
     },
     "execution_count": 216,
     "metadata": {},
     "output_type": "execute_result"
    }
   ],
   "source": [
    "species_activity_grouped_percentage = top_tiburones.groupby(['Species', 'Activity']).size().reset_index(name='Count')\n",
    "\n",
    "# Calculate the total count of occurrences\n",
    "total_count = species_activity_grouped_percentage['Count'].sum()\n",
    "\n",
    "# Calculate the percentage for each group\n",
    "species_activity_grouped_percentage['Percentage'] = (species_activity_grouped_percentage['Count'] / total_count) * 100\n",
    "\n",
    "# If you want to sort the result by count in descending order:\n",
    "species_activity_grouped_percentage = species_activity_grouped_percentage.sort_values(by='Count', ascending=False)\n",
    "species_activity_grouped_percentage.head(20)"
   ]
  },
  {
   "cell_type": "code",
   "execution_count": 224,
   "id": "bdfb4d1a-65f9-4c3f-b441-9f994a8c7092",
   "metadata": {},
   "outputs": [],
   "source": [
    "# Assuming 'top_tiburones' is your DataFrame containing the shark data\n",
    "# Perform the groupby and count\n",
    "grouped_data = top_tiburones.groupby(['Sex']).size().reset_index(name='Count')\n",
    "\n",
    "# Export the grouped data to a CSV file\n",
    "grouped_data.to_csv('shark_by_sex.csv', index=False)"
   ]
  },
  {
   "cell_type": "markdown",
   "id": "97881ee0-5b98-49c3-a6de-2622819d10c4",
   "metadata": {},
   "source": [
    "#### Link de descarga de la presentación"
   ]
  },
  {
   "cell_type": "code",
   "execution_count": null,
   "id": "06dfac56-27f2-4ee3-ad59-f025e7c8aa93",
   "metadata": {},
   "outputs": [],
   "source": [
    "link = https://docs.google.com/presentation/d/1mgK8UFL6DOF23dsxRDG9nukapL9opdgv77fazi9Nn78/edit#slide=id.g2cd9f340878_0_175"
   ]
  }
 ],
 "metadata": {
  "kernelspec": {
   "display_name": "Python 3 (ipykernel)",
   "language": "python",
   "name": "python3"
  },
  "language_info": {
   "codemirror_mode": {
    "name": "ipython",
    "version": 3
   },
   "file_extension": ".py",
   "mimetype": "text/x-python",
   "name": "python",
   "nbconvert_exporter": "python",
   "pygments_lexer": "ipython3",
   "version": "3.11.7"
  }
 },
 "nbformat": 4,
 "nbformat_minor": 5
}
